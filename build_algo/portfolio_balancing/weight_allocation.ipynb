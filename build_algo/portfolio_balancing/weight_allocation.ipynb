{
 "cells": [
  {
   "cell_type": "code",
   "execution_count": 8,
   "metadata": {},
   "outputs": [],
   "source": [
    "# Nhập các thư viện cần thiết trong quá trình thực hiện\n",
    "import vnstock as vnst\n",
    "import pandas as pd\n",
    "import numpy as np\n",
    "import cvxpy as cp"
   ]
  },
  {
   "cell_type": "code",
   "execution_count": 9,
   "metadata": {},
   "outputs": [],
   "source": [
    "def get_combined_df(list_stock):    \n",
    "    symbols = list_stock\n",
    "    start_date = \"2023-06-14\"\n",
    "    end_date = \"2024-02-01\"\n",
    "\n",
    "    historical_data = {}\n",
    "\n",
    "    for symbol in symbols:\n",
    "        historical_data[symbol] = vnst.stock_historical_data(\n",
    "            symbol=symbol,\n",
    "            start_date=start_date,\n",
    "            end_date=end_date,\n",
    "            type=type\n",
    "        )\n",
    "\n",
    "    # Gộp các DataFrame trong danh sách theo cột 'close'\n",
    "    df_combined = pd.concat([historical_data[symbol]['close'] for symbol in symbols], axis=1)\n",
    "\n",
    "    # Đặt tên cột mới\n",
    "    df_combined.columns = symbols\n",
    "    return df_combined"
   ]
  },
  {
   "cell_type": "code",
   "execution_count": 10,
   "metadata": {},
   "outputs": [],
   "source": [
    "def covariance_matrix(corr_matrix, volatility):\n",
    "    n = len(volatility)\n",
    "    cov_matrix = np.zeros((n, n))\n",
    "    for i in range(n):\n",
    "        for j in range(n):\n",
    "            cov_matrix[i, j] = corr_matrix.iloc[i, j] * volatility[i] * volatility[j]  # Changed corr_matrix[i, j] to corr_matrix.iloc[i, j]\n",
    "    return cov_matrix\n",
    "\n",
    "def objective(x, cov_matrix):\n",
    "    return cp.quad_form(x, cov_matrix)\n",
    "\n",
    "def cal_weight(df_combined, list_stock):\n",
    "    days_return_3days = df_combined / df_combined.shift(3) - 1\n",
    "    days_return_3days.dropna(inplace=True)\n",
    "    returns_20 = days_return_3days.head(20).mean()\n",
    "    returns_60 = days_return_3days.tail(60).mean()\n",
    "    volatility = np.std(days_return_3days.tail(20))\n",
    "    corr_matrix = df_combined.corr()\n",
    "\n",
    "    cov_matrix = covariance_matrix(corr_matrix, volatility)\n",
    "    num_assets = cov_matrix.shape[0]\n",
    "    x = cp.Variable(num_assets)\n",
    "    objective_func = cp.Minimize(cp.quad_form(x, cov_matrix))\n",
    "    constraints = [\n",
    "        cp.sum(x) == 1,  # a + b + c + d + e = 1\n",
    "        x >= 0.05,  # a, b, c, d, e >= 0.05\n",
    "        cp.matmul(returns_20.values, x) >= 0,  # Lớn hơn hoặc bằng 0\n",
    "        cp.matmul(returns_60.values, x) >= 0  # Lớn hơn hoặc bằng 0\n",
    "    ]\n",
    "    problem = cp.Problem(objective_func, constraints)\n",
    "    weight_df = problem.solve()\n",
    "    weight_df = pd.DataFrame({'weight': x.value}, index=list_stock).round(4)\n",
    "    return weight_df"
   ]
  },
  {
   "cell_type": "code",
   "execution_count": 11,
   "metadata": {},
   "outputs": [
    {
     "name": "stdout",
     "output_type": "stream",
     "text": [
      "Error in API response {\"status\":500,\"code\":\"INTERNAL_SERVER_ERROR\",\"message\":\"code=404, message=Not Found\"}\n",
      " \n",
      "\n"
     ]
    },
    {
     "ename": "UnboundLocalError",
     "evalue": "local variable 'df' referenced before assignment",
     "output_type": "error",
     "traceback": [
      "\u001b[1;31m---------------------------------------------------------------------------\u001b[0m",
      "\u001b[1;31mUnboundLocalError\u001b[0m                         Traceback (most recent call last)",
      "Cell \u001b[1;32mIn[11], line 2\u001b[0m\n\u001b[0;32m      1\u001b[0m list_stock \u001b[38;5;241m=\u001b[39m [\u001b[38;5;124m'\u001b[39m\u001b[38;5;124mSSI\u001b[39m\u001b[38;5;124m'\u001b[39m,\u001b[38;5;124m'\u001b[39m\u001b[38;5;124mHPG\u001b[39m\u001b[38;5;124m'\u001b[39m,\u001b[38;5;124m'\u001b[39m\u001b[38;5;124mVND\u001b[39m\u001b[38;5;124m'\u001b[39m,\u001b[38;5;124m'\u001b[39m\u001b[38;5;124mGAS\u001b[39m\u001b[38;5;124m'\u001b[39m,\u001b[38;5;124m'\u001b[39m\u001b[38;5;124mFPT\u001b[39m\u001b[38;5;124m'\u001b[39m]\n\u001b[1;32m----> 2\u001b[0m df_combined \u001b[38;5;241m=\u001b[39m  \u001b[43mget_combined_df\u001b[49m\u001b[43m(\u001b[49m\u001b[43mlist_stock\u001b[49m\u001b[43m)\u001b[49m\n\u001b[0;32m      3\u001b[0m weight_df \u001b[38;5;241m=\u001b[39m cal_weight(df_combined, list_stock)\n\u001b[0;32m      4\u001b[0m weight_df\u001b[38;5;241m.\u001b[39mhead()\n",
      "Cell \u001b[1;32mIn[9], line 9\u001b[0m, in \u001b[0;36mget_combined_df\u001b[1;34m(list_stock)\u001b[0m\n\u001b[0;32m      6\u001b[0m historical_data \u001b[38;5;241m=\u001b[39m {}\n\u001b[0;32m      8\u001b[0m \u001b[38;5;28;01mfor\u001b[39;00m symbol \u001b[38;5;129;01min\u001b[39;00m symbols:\n\u001b[1;32m----> 9\u001b[0m     historical_data[symbol] \u001b[38;5;241m=\u001b[39m \u001b[43mvnst\u001b[49m\u001b[38;5;241;43m.\u001b[39;49m\u001b[43mstock_historical_data\u001b[49m\u001b[43m(\u001b[49m\n\u001b[0;32m     10\u001b[0m \u001b[43m        \u001b[49m\u001b[43msymbol\u001b[49m\u001b[38;5;241;43m=\u001b[39;49m\u001b[43msymbol\u001b[49m\u001b[43m,\u001b[49m\n\u001b[0;32m     11\u001b[0m \u001b[43m        \u001b[49m\u001b[43mstart_date\u001b[49m\u001b[38;5;241;43m=\u001b[39;49m\u001b[43mstart_date\u001b[49m\u001b[43m,\u001b[49m\n\u001b[0;32m     12\u001b[0m \u001b[43m        \u001b[49m\u001b[43mend_date\u001b[49m\u001b[38;5;241;43m=\u001b[39;49m\u001b[43mend_date\u001b[49m\u001b[43m,\u001b[49m\n\u001b[0;32m     13\u001b[0m \u001b[43m        \u001b[49m\u001b[38;5;28;43mtype\u001b[39;49m\u001b[38;5;241;43m=\u001b[39;49m\u001b[38;5;28;43mtype\u001b[39;49m\n\u001b[0;32m     14\u001b[0m \u001b[43m    \u001b[49m\u001b[43m)\u001b[49m\n\u001b[0;32m     16\u001b[0m \u001b[38;5;66;03m# Gộp các DataFrame trong danh sách theo cột 'close'\u001b[39;00m\n\u001b[0;32m     17\u001b[0m df_combined \u001b[38;5;241m=\u001b[39m pd\u001b[38;5;241m.\u001b[39mconcat([historical_data[symbol][\u001b[38;5;124m'\u001b[39m\u001b[38;5;124mclose\u001b[39m\u001b[38;5;124m'\u001b[39m] \u001b[38;5;28;01mfor\u001b[39;00m symbol \u001b[38;5;129;01min\u001b[39;00m symbols], axis\u001b[38;5;241m=\u001b[39m\u001b[38;5;241m1\u001b[39m)\n",
      "File \u001b[1;32mc:\\Users\\ASUS\\AppData\\Local\\Programs\\Python\\Python310\\lib\\site-packages\\vnstock\\technical.py:24\u001b[0m, in \u001b[0;36mstock_historical_data\u001b[1;34m(symbol, start_date, end_date, resolution, type, beautify, decor, source)\u001b[0m\n\u001b[0;32m      5\u001b[0m \u001b[38;5;124;03m\"\"\"\u001b[39;00m\n\u001b[0;32m      6\u001b[0m \u001b[38;5;124;03mGet historical price data from entrade.com.vn. The unit price is VND.\u001b[39;00m\n\u001b[0;32m      7\u001b[0m \u001b[38;5;124;03mParameters:\u001b[39;00m\n\u001b[1;32m   (...)\u001b[0m\n\u001b[0;32m     21\u001b[0m \u001b[38;5;124;03m    | YYYY-mm-dd  | xxxx | xxxx | xxx | xxxxx | xxxxxx |\u001b[39;00m\n\u001b[0;32m     22\u001b[0m \u001b[38;5;124;03m\"\"\"\u001b[39;00m\n\u001b[0;32m     23\u001b[0m \u001b[38;5;28;01mif\u001b[39;00m source\u001b[38;5;241m.\u001b[39mupper() \u001b[38;5;241m==\u001b[39m \u001b[38;5;124m'\u001b[39m\u001b[38;5;124mDNSE\u001b[39m\u001b[38;5;124m'\u001b[39m:\n\u001b[1;32m---> 24\u001b[0m     df \u001b[38;5;241m=\u001b[39m \u001b[43mohlc_data\u001b[49m\u001b[43m(\u001b[49m\u001b[43msymbol\u001b[49m\u001b[43m,\u001b[49m\u001b[43m \u001b[49m\u001b[43mstart_date\u001b[49m\u001b[43m,\u001b[49m\u001b[43m \u001b[49m\u001b[43mend_date\u001b[49m\u001b[43m,\u001b[49m\u001b[43m \u001b[49m\u001b[43mresolution\u001b[49m\u001b[43m,\u001b[49m\u001b[43m \u001b[49m\u001b[38;5;28;43mtype\u001b[39;49m\u001b[43m,\u001b[49m\u001b[43m \u001b[49m\u001b[43mheaders\u001b[49m\u001b[38;5;241;43m=\u001b[39;49m\u001b[43mentrade_headers\u001b[49m\u001b[43m)\u001b[49m\n\u001b[0;32m     25\u001b[0m \u001b[38;5;28;01melif\u001b[39;00m source\u001b[38;5;241m.\u001b[39mupper() \u001b[38;5;241m==\u001b[39m \u001b[38;5;124m'\u001b[39m\u001b[38;5;124mTCBS\u001b[39m\u001b[38;5;124m'\u001b[39m:\n\u001b[0;32m     26\u001b[0m     \u001b[38;5;28;01mif\u001b[39;00m resolution \u001b[38;5;241m==\u001b[39m \u001b[38;5;124m'\u001b[39m\u001b[38;5;124m1D\u001b[39m\u001b[38;5;124m'\u001b[39m:\n",
      "File \u001b[1;32mc:\\Users\\ASUS\\AppData\\Local\\Programs\\Python\\Python310\\lib\\site-packages\\vnstock\\technical.py:191\u001b[0m, in \u001b[0;36mohlc_data\u001b[1;34m(symbol, start_date, end_date, resolution, type, headers)\u001b[0m\n\u001b[0;32m    189\u001b[0m \u001b[38;5;28;01melse\u001b[39;00m:\n\u001b[0;32m    190\u001b[0m     \u001b[38;5;28mprint\u001b[39m(\u001b[38;5;124mf\u001b[39m\u001b[38;5;124m\"\u001b[39m\u001b[38;5;124mError in API response \u001b[39m\u001b[38;5;132;01m{\u001b[39;00mresponse\u001b[38;5;241m.\u001b[39mtext\u001b[38;5;132;01m}\u001b[39;00m\u001b[38;5;124m\"\u001b[39m, \u001b[38;5;124m\"\u001b[39m\u001b[38;5;130;01m\\n\u001b[39;00m\u001b[38;5;124m\"\u001b[39m)\n\u001b[1;32m--> 191\u001b[0m \u001b[38;5;28;01mreturn\u001b[39;00m \u001b[43mdf\u001b[49m\n",
      "\u001b[1;31mUnboundLocalError\u001b[0m: local variable 'df' referenced before assignment"
     ]
    }
   ],
   "source": [
    "list_stock = ['SSI','HPG','VND','GAS','FPT']\n",
    "df_combined =  get_combined_df(list_stock)\n",
    "weight_df = cal_weight(df_combined, list_stock)\n",
    "weight_df.head()"
   ]
  }
 ],
 "metadata": {
  "kernelspec": {
   "display_name": "Python 3",
   "language": "python",
   "name": "python3"
  },
  "language_info": {
   "codemirror_mode": {
    "name": "ipython",
    "version": 3
   },
   "file_extension": ".py",
   "mimetype": "text/x-python",
   "name": "python",
   "nbconvert_exporter": "python",
   "pygments_lexer": "ipython3",
   "version": "3.10.6"
  }
 },
 "nbformat": 4,
 "nbformat_minor": 2
}
