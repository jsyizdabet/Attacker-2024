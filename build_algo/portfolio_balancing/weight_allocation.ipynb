{
 "cells": [
  {
   "cell_type": "code",
   "execution_count": 1,
   "metadata": {},
   "outputs": [],
   "source": [
    "import numpy as np\n",
    "import cvxpy as cp"
   ]
  },
  {
   "cell_type": "code",
   "execution_count": 2,
   "metadata": {},
   "outputs": [
    {
     "name": "stdout",
     "output_type": "stream",
     "text": [
      "Optimal Portfolio Weights:\n",
      "Asset 1: 0.2419\n",
      "Asset 2: 0.1813\n",
      "Asset 3: 0.1450\n",
      "Asset 4: 0.3190\n",
      "Asset 5: 0.1128\n",
      "\n",
      "Portfolio Metrics:\n",
      "Expected Return: 0.0972\n",
      "Portfolio Risk: 0.2034\n"
     ]
    }
   ],
   "source": [
    "# Example data (expected returns and covariance matrix)\n",
    "# Thay thế bằng dữ liệu lịch sử các cổ phiếu\n",
    "expected_returns = np.array([0.1, 0.08, 0.12, 0.09, 0.11])\n",
    "covariance_matrix = np.array([\n",
    "    [0.1, 0.03, 0.02, 0.01, 0.05],\n",
    "    [0.03, 0.12, 0.01, 0.02, 0.04],\n",
    "    [0.02, 0.01, 0.15, 0.03, 0.03],\n",
    "    [0.01, 0.02, 0.03, 0.09, 0.02],\n",
    "    [0.05, 0.04, 0.03, 0.02, 0.1]\n",
    "])\n",
    "\n",
    "# Number of assets\n",
    "n_assets = len(expected_returns)\n",
    "\n",
    "# Define the variables\n",
    "weights = cp.Variable(n_assets)\n",
    "\n",
    "# Define the objective function (minimize portfolio risk)\n",
    "risk = cp.quad_form(weights, covariance_matrix)\n",
    "objective = cp.Minimize(risk)\n",
    "\n",
    "# Define the constraints (sum of weights = 1, weights >= 0)\n",
    "constraints = [cp.sum(weights) == 1, weights >= 0]\n",
    "\n",
    "# Solve the problem\n",
    "problem = cp.Problem(objective, constraints)\n",
    "problem.solve()\n",
    "\n",
    "# Print the results\n",
    "print(\"Optimal Portfolio Weights:\")\n",
    "for i in range(n_assets):\n",
    "    print(f\"Asset {i+1}: {weights.value[i]:.4f}\")\n",
    "\n",
    "# Calculate and print portfolio expected return and risk\n",
    "portfolio_return = expected_returns.dot(weights.value)\n",
    "portfolio_risk = np.sqrt(weights.value.T @ covariance_matrix @ weights.value)\n",
    "print(\"\\nPortfolio Metrics:\")\n",
    "print(f\"Expected Return: {portfolio_return:.4f}\")\n",
    "print(f\"Portfolio Risk: {portfolio_risk:.4f}\")\n"
   ]
  },
  {
   "cell_type": "code",
   "execution_count": 3,
   "metadata": {},
   "outputs": [
    {
     "name": "stdout",
     "output_type": "stream",
     "text": [
      "Optimal Portfolio Weights:\n",
      "Asset 1: 0.0000\n",
      "Asset 2: 0.0000\n",
      "Asset 3: 1.0000\n",
      "Asset 4: 0.0000\n",
      "Asset 5: 0.0000\n",
      "\n",
      "Portfolio Metrics:\n",
      "Expected Return: 0.1200\n",
      "Portfolio Risk: 0.3873\n"
     ]
    },
    {
     "name": "stderr",
     "output_type": "stream",
     "text": [
      "c:\\Users\\ASUS\\AppData\\Local\\Programs\\Python\\Python310\\lib\\site-packages\\cvxpy\\reductions\\solvers\\solving_chain.py:336: FutureWarning: \n",
      "    Your problem is being solved with the ECOS solver by default. Starting in \n",
      "    CVXPY 1.5.0, Clarabel will be used as the default solver instead. To continue \n",
      "    using ECOS, specify the ECOS solver explicitly using the ``solver=cp.ECOS`` \n",
      "    argument to the ``problem.solve`` method.\n",
      "    \n",
      "  warnings.warn(ECOS_DEPRECATION_MSG, FutureWarning)\n"
     ]
    }
   ],
   "source": [
    "import numpy as np\n",
    "import cvxpy as cp\n",
    "\n",
    "# Example data (expected returns and covariance matrix)\n",
    "expected_returns = np.array([0.1, 0.08, 0.12, 0.09, 0.11])\n",
    "covariance_matrix = np.array([\n",
    "    [0.1, 0.03, 0.02, 0.01, 0.05],\n",
    "    [0.03, 0.12, 0.01, 0.02, 0.04],\n",
    "    [0.02, 0.01, 0.15, 0.03, 0.03],\n",
    "    [0.01, 0.02, 0.03, 0.09, 0.02],\n",
    "    [0.05, 0.04, 0.03, 0.02, 0.1]\n",
    "])\n",
    "\n",
    "# Number of assets\n",
    "n_assets = len(expected_returns)\n",
    "\n",
    "# Define the variables\n",
    "weights = cp.Variable(n_assets)\n",
    "\n",
    "# Define the objective function (maximize portfolio return)\n",
    "objective = cp.Maximize(expected_returns @ weights)\n",
    "\n",
    "# Define the constraints (sum of weights = 1, weights >= 0)\n",
    "constraints = [cp.sum(weights) == 1, weights >= 0]\n",
    "\n",
    "# Solve the problem\n",
    "problem = cp.Problem(objective, constraints)\n",
    "problem.solve()\n",
    "\n",
    "# Print the results\n",
    "print(\"Optimal Portfolio Weights:\")\n",
    "for i in range(n_assets):\n",
    "    print(f\"Asset {i+1}: {weights.value[i]:.4f}\")\n",
    "\n",
    "# Calculate and print portfolio expected return and risk\n",
    "portfolio_return = expected_returns.dot(weights.value)\n",
    "portfolio_risk = np.sqrt(weights.value.T @ covariance_matrix @ weights.value)\n",
    "print(\"\\nPortfolio Metrics:\")\n",
    "print(f\"Expected Return: {portfolio_return:.4f}\")\n",
    "print(f\"Portfolio Risk: {portfolio_risk:.4f}\")\n"
   ]
  }
 ],
 "metadata": {
  "kernelspec": {
   "display_name": "Python 3",
   "language": "python",
   "name": "python3"
  },
  "language_info": {
   "codemirror_mode": {
    "name": "ipython",
    "version": 3
   },
   "file_extension": ".py",
   "mimetype": "text/x-python",
   "name": "python",
   "nbconvert_exporter": "python",
   "pygments_lexer": "ipython3",
   "version": "3.10.6"
  }
 },
 "nbformat": 4,
 "nbformat_minor": 2
}
