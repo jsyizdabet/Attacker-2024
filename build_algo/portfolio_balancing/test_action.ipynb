{
 "cells": [
  {
   "cell_type": "code",
   "execution_count": 1,
   "metadata": {},
   "outputs": [],
   "source": [
    "import pandas as pd\n",
    "import numpy as np\n",
    "import vnstock as vn"
   ]
  },
  {
   "cell_type": "code",
   "execution_count": 9,
   "metadata": {},
   "outputs": [],
   "source": [
    "transactions_df = pd.DataFrame({\n",
    "    'Date': ['2024-01-01', '2024-01-02', '2024-01-03', '2024-01-04'],\n",
    "    'Stock': ['AAPL', 'GOOGL', 'MSFT', 'AAPL'],\n",
    "    'Action': ['Buy', 'Buy', 'Sell', 'Sell'],\n",
    "    'Quantity': [100,200,500,300],\n",
    "    'Price': [150, 2500, 200, 160]\n",
    "})\n",
    "\n",
    "recent_prices_df = pd.DataFrame({\n",
    "    'Stock': ['AAPL', 'GOOGL', 'MSFT'],\n",
    "    'Recent Price': [155, 2600, 210]\n",
    "})\n",
    "\n",
    "portfolio_df = pd.DataFrame({\n",
    "    'Stock': ['AAPL', 'GOOGL'],\n",
    "    'Quantity': [100, 200]\n",
    "})"
   ]
  },
  {
   "cell_type": "code",
   "execution_count": 3,
   "metadata": {},
   "outputs": [
    {
     "data": {
      "text/html": [
       "<div>\n",
       "<style scoped>\n",
       "    .dataframe tbody tr th:only-of-type {\n",
       "        vertical-align: middle;\n",
       "    }\n",
       "\n",
       "    .dataframe tbody tr th {\n",
       "        vertical-align: top;\n",
       "    }\n",
       "\n",
       "    .dataframe thead th {\n",
       "        text-align: right;\n",
       "    }\n",
       "</style>\n",
       "<table border=\"1\" class=\"dataframe\">\n",
       "  <thead>\n",
       "    <tr style=\"text-align: right;\">\n",
       "      <th></th>\n",
       "      <th>Date</th>\n",
       "      <th>Stock</th>\n",
       "      <th>Action</th>\n",
       "      <th>Quantity</th>\n",
       "      <th>Price</th>\n",
       "    </tr>\n",
       "  </thead>\n",
       "  <tbody>\n",
       "    <tr>\n",
       "      <th>0</th>\n",
       "      <td>2024-01-01</td>\n",
       "      <td>AAPL</td>\n",
       "      <td>Buy</td>\n",
       "      <td>100</td>\n",
       "      <td>150</td>\n",
       "    </tr>\n",
       "    <tr>\n",
       "      <th>1</th>\n",
       "      <td>2024-01-02</td>\n",
       "      <td>GOOGL</td>\n",
       "      <td>Buy</td>\n",
       "      <td>200</td>\n",
       "      <td>2500</td>\n",
       "    </tr>\n",
       "    <tr>\n",
       "      <th>2</th>\n",
       "      <td>2024-01-03</td>\n",
       "      <td>MSFT</td>\n",
       "      <td>Sell</td>\n",
       "      <td>500</td>\n",
       "      <td>200</td>\n",
       "    </tr>\n",
       "    <tr>\n",
       "      <th>3</th>\n",
       "      <td>2024-01-04</td>\n",
       "      <td>AAPL</td>\n",
       "      <td>Sell</td>\n",
       "      <td>300</td>\n",
       "      <td>160</td>\n",
       "    </tr>\n",
       "  </tbody>\n",
       "</table>\n",
       "</div>"
      ],
      "text/plain": [
       "         Date  Stock Action  Quantity  Price\n",
       "0  2024-01-01   AAPL    Buy       100    150\n",
       "1  2024-01-02  GOOGL    Buy       200   2500\n",
       "2  2024-01-03   MSFT   Sell       500    200\n",
       "3  2024-01-04   AAPL   Sell       300    160"
      ]
     },
     "execution_count": 3,
     "metadata": {},
     "output_type": "execute_result"
    }
   ],
   "source": [
    "transactions_df"
   ]
  },
  {
   "cell_type": "code",
   "execution_count": 10,
   "metadata": {},
   "outputs": [
    {
     "data": {
      "text/html": [
       "<div>\n",
       "<style scoped>\n",
       "    .dataframe tbody tr th:only-of-type {\n",
       "        vertical-align: middle;\n",
       "    }\n",
       "\n",
       "    .dataframe tbody tr th {\n",
       "        vertical-align: top;\n",
       "    }\n",
       "\n",
       "    .dataframe thead th {\n",
       "        text-align: right;\n",
       "    }\n",
       "</style>\n",
       "<table border=\"1\" class=\"dataframe\">\n",
       "  <thead>\n",
       "    <tr style=\"text-align: right;\">\n",
       "      <th></th>\n",
       "      <th>Stock</th>\n",
       "      <th>Recent Price</th>\n",
       "    </tr>\n",
       "  </thead>\n",
       "  <tbody>\n",
       "    <tr>\n",
       "      <th>0</th>\n",
       "      <td>AAPL</td>\n",
       "      <td>155</td>\n",
       "    </tr>\n",
       "    <tr>\n",
       "      <th>1</th>\n",
       "      <td>GOOGL</td>\n",
       "      <td>2600</td>\n",
       "    </tr>\n",
       "    <tr>\n",
       "      <th>2</th>\n",
       "      <td>MSFT</td>\n",
       "      <td>210</td>\n",
       "    </tr>\n",
       "  </tbody>\n",
       "</table>\n",
       "</div>"
      ],
      "text/plain": [
       "   Stock  Recent Price\n",
       "0   AAPL           155\n",
       "1  GOOGL          2600\n",
       "2   MSFT           210"
      ]
     },
     "execution_count": 10,
     "metadata": {},
     "output_type": "execute_result"
    }
   ],
   "source": [
    "recent_prices_df"
   ]
  },
  {
   "cell_type": "code",
   "execution_count": 5,
   "metadata": {},
   "outputs": [
    {
     "data": {
      "text/html": [
       "<div>\n",
       "<style scoped>\n",
       "    .dataframe tbody tr th:only-of-type {\n",
       "        vertical-align: middle;\n",
       "    }\n",
       "\n",
       "    .dataframe tbody tr th {\n",
       "        vertical-align: top;\n",
       "    }\n",
       "\n",
       "    .dataframe thead th {\n",
       "        text-align: right;\n",
       "    }\n",
       "</style>\n",
       "<table border=\"1\" class=\"dataframe\">\n",
       "  <thead>\n",
       "    <tr style=\"text-align: right;\">\n",
       "      <th></th>\n",
       "      <th>Stock</th>\n",
       "      <th>Quantity</th>\n",
       "    </tr>\n",
       "  </thead>\n",
       "  <tbody>\n",
       "    <tr>\n",
       "      <th>0</th>\n",
       "      <td>AAPL</td>\n",
       "      <td>100</td>\n",
       "    </tr>\n",
       "    <tr>\n",
       "      <th>1</th>\n",
       "      <td>GOOGL</td>\n",
       "      <td>200</td>\n",
       "    </tr>\n",
       "  </tbody>\n",
       "</table>\n",
       "</div>"
      ],
      "text/plain": [
       "   Stock  Quantity\n",
       "0   AAPL       100\n",
       "1  GOOGL       200"
      ]
     },
     "execution_count": 5,
     "metadata": {},
     "output_type": "execute_result"
    }
   ],
   "source": [
    "portfolio_df"
   ]
  },
  {
   "cell_type": "code",
   "execution_count": 46,
   "metadata": {},
   "outputs": [],
   "source": [
    "def get_recent_price(stock_name):\n",
    "    recent_price = recent_prices_df.loc[recent_prices_df['Stock'] == stock_name, 'Price'].values[0]\n",
    "    return recent_price\n",
    "\n",
    "def calculate_daily_returns(transactions_df, recent_prices_df):\n",
    "    merged_df = pd.merge(transactions_df, recent_prices_df, on='Stock', how='left')\n",
    "    merged_df.sort_values(by='Date', inplace=True)\n",
    "    merged_df['Daily Return'] = merged_df.groupby('Stock')['Price'].pct_change()\n",
    "    merged_df.dropna(subset=['Daily Return'], inplace=True)\n",
    "    daily_returns_df = merged_df[['Date', 'Stock', 'Daily Return']]\n",
    "    return daily_returns_df\n",
    "\n",
    "def cal_portfolio_daily_return(transactions_df,recent_prices_df, portfolio_df):\n",
    "    daily_returns_df = calculate_daily_returns(transactions_df, recent_prices_df)\n",
    "    merged_df = pd.merge(daily_returns_df, portfolio_df, on='Stock', how='inner')\n",
    "    merged_df['Weighted Return'] = merged_df['Daily Return'] * merged_df['Quantity']\n",
    "    total_weighted_return = merged_df['Weighted Return'].sum()\n",
    "    total_portfolio_quantity = merged_df['Quantity'].sum()\n",
    "    mean_return = total_weighted_return / total_portfolio_quantity\n",
    "    portfolio_daily_return = merged_df.groupby('Date')['Weighted Return'].sum().reset_index()\n",
    "\n",
    "    return merged_df, mean_return, portfolio_daily_return\n",
    "\n",
    "def cal_port_current_value(portfolio_df, current_prices):\n",
    "    initial_value = 123\n",
    "\n",
    "    for asset, quantity in portfolio_df.items():\n",
    "        price = current_prices.get(asset, 0)\n",
    "        asset_value = price*quantity\n",
    "        current_value += asset_value\n",
    "    return current_value\n",
    "\n",
    "def record_action(signal_df, portfolio_df, recent_prices_df):\n",
    "    transactions = []\n",
    "\n",
    "    for index, signal in signal_df.iterrows():\n",
    "        date = signal['Date']\n",
    "        stock = signal['Stock']\n",
    "        action = signal['Action']\n",
    "        quantity = signal['Quantity']\n",
    "        price = signal['Price']\n",
    "        # or price will be determine if the algorith is applied in real market\n",
    "        # price = recent_prices_df.loc[recent_prices_df['Stock'] == stock, 'Price'].values[0]\n",
    "\n",
    "        if action == 'Buy':\n",
    "            transaction = {\n",
    "                'Date': date,\n",
    "                'Stock': stock,\n",
    "                'Action': action,\n",
    "                'Quantity': quantity,\n",
    "                'Price': price\n",
    "            }\n",
    "            transactions.append(transaction)\n",
    "\n",
    "            if stock in portfolio_df['Stock'].values:\n",
    "                #Update existing stock quantity\n",
    "                portfolio_df.loc[portfolio_df['Stock'] == stock, 'Quantity'] += quantity\n",
    "            else:\n",
    "                #Add new stock to the portfolio\n",
    "                portfolio_df = portfolio_df.append({'Stock': stock, 'Quantity': quantity, 'Price': price}, ignore_index = True)\n",
    "        \n",
    "        elif action == 'Sell':\n",
    "            if stock in portfolio_df['Stock'].values:\n",
    "                transaction = {\n",
    "                    'Date': date,\n",
    "                    'Stock': stock,\n",
    "                    'Action': action,\n",
    "                    'Quantity': quantity,\n",
    "                    'Price': price\n",
    "            }\n",
    "            transactions.append(transaction)\n",
    "\n",
    "            #Reduce stock quantity\n",
    "            portfolio_df.loc[portfolio_df['Stock']== stock, 'Quantity']-= quantity\n",
    "            #Remove stock if quantity becomes zero\n",
    "            if portfolio_df.loc[portfolio_df['Stock'] == stock, 'Quantity'].values[0] <= 0:\n",
    "                portfolio_df = portfolio_df[portfolio_df['Stock'] != stock]\n",
    "        \n",
    "        transaction_df = pd.DataFrame(transactions)\n",
    "        return transaction_df\n"
   ]
  },
  {
   "cell_type": "code",
   "execution_count": 21,
   "metadata": {},
   "outputs": [
    {
     "name": "stdout",
     "output_type": "stream",
     "text": [
      "0.06666666666666665\n"
     ]
    }
   ],
   "source": [
    "portfolio_daily_return_df = cal_portfolio_daily_return(transactions_df, recent_prices_df, portfolio_df)\n",
    "portfolio_daily_return_df.head()\n",
    "\n",
    "mean_return = cal_portfolio_daily_return(transactions_df, recent_prices_df, portfolio_df,return_dataframe=False)\n",
    "print(mean_return)"
   ]
  },
  {
   "cell_type": "code",
   "execution_count": 26,
   "metadata": {},
   "outputs": [],
   "source": [
    "daily_return, mean_return, portfolio_daily_return_df = cal_portfolio_daily_return(transactions_df, recent_prices_df, portfolio_df)\n"
   ]
  },
  {
   "cell_type": "code",
   "execution_count": 27,
   "metadata": {},
   "outputs": [
    {
     "name": "stdout",
     "output_type": "stream",
     "text": [
      "         Date  Weighted Return\n",
      "0  2024-01-04         6.666667\n"
     ]
    }
   ],
   "source": [
    "print(portfolio_daily_return_df)"
   ]
  },
  {
   "cell_type": "code",
   "execution_count": 28,
   "metadata": {},
   "outputs": [
    {
     "data": {
      "text/html": [
       "<div>\n",
       "<style scoped>\n",
       "    .dataframe tbody tr th:only-of-type {\n",
       "        vertical-align: middle;\n",
       "    }\n",
       "\n",
       "    .dataframe tbody tr th {\n",
       "        vertical-align: top;\n",
       "    }\n",
       "\n",
       "    .dataframe thead th {\n",
       "        text-align: right;\n",
       "    }\n",
       "</style>\n",
       "<table border=\"1\" class=\"dataframe\">\n",
       "  <thead>\n",
       "    <tr style=\"text-align: right;\">\n",
       "      <th></th>\n",
       "      <th>Date</th>\n",
       "      <th>Stock</th>\n",
       "      <th>Daily Return</th>\n",
       "      <th>Quantity</th>\n",
       "      <th>Weighted Return</th>\n",
       "    </tr>\n",
       "  </thead>\n",
       "  <tbody>\n",
       "    <tr>\n",
       "      <th>0</th>\n",
       "      <td>2024-01-04</td>\n",
       "      <td>AAPL</td>\n",
       "      <td>0.066667</td>\n",
       "      <td>100</td>\n",
       "      <td>6.666667</td>\n",
       "    </tr>\n",
       "  </tbody>\n",
       "</table>\n",
       "</div>"
      ],
      "text/plain": [
       "         Date Stock  Daily Return  Quantity  Weighted Return\n",
       "0  2024-01-04  AAPL      0.066667       100         6.666667"
      ]
     },
     "execution_count": 28,
     "metadata": {},
     "output_type": "execute_result"
    }
   ],
   "source": [
    "daily_return"
   ]
  },
  {
   "cell_type": "code",
   "execution_count": 29,
   "metadata": {},
   "outputs": [
    {
     "data": {
      "text/plain": [
       "0.06666666666666665"
      ]
     },
     "execution_count": 29,
     "metadata": {},
     "output_type": "execute_result"
    }
   ],
   "source": [
    "mean_return"
   ]
  },
  {
   "cell_type": "code",
   "execution_count": 13,
   "metadata": {},
   "outputs": [
    {
     "name": "stdout",
     "output_type": "stream",
     "text": [
      "Daily Returns:\n",
      "         Date Stock  Daily Return\n",
      "3  2024-01-04  AAPL      0.066667\n"
     ]
    }
   ],
   "source": [
    "daily_returns_df = calculate_daily_returns(transactions_df, recent_prices_df)\n",
    "print(\"Daily Returns:\")\n",
    "print(daily_returns_df)"
   ]
  },
  {
   "cell_type": "code",
   "execution_count": 35,
   "metadata": {},
   "outputs": [
    {
     "data": {
      "text/html": [
       "<div>\n",
       "<style scoped>\n",
       "    .dataframe tbody tr th:only-of-type {\n",
       "        vertical-align: middle;\n",
       "    }\n",
       "\n",
       "    .dataframe tbody tr th {\n",
       "        vertical-align: top;\n",
       "    }\n",
       "\n",
       "    .dataframe thead th {\n",
       "        text-align: right;\n",
       "    }\n",
       "</style>\n",
       "<table border=\"1\" class=\"dataframe\">\n",
       "  <thead>\n",
       "    <tr style=\"text-align: right;\">\n",
       "      <th></th>\n",
       "      <th>Stock</th>\n",
       "      <th>Quantity</th>\n",
       "    </tr>\n",
       "  </thead>\n",
       "  <tbody>\n",
       "    <tr>\n",
       "      <th>0</th>\n",
       "      <td>AAPL</td>\n",
       "      <td>200</td>\n",
       "    </tr>\n",
       "    <tr>\n",
       "      <th>1</th>\n",
       "      <td>GOOGL</td>\n",
       "      <td>200</td>\n",
       "    </tr>\n",
       "  </tbody>\n",
       "</table>\n",
       "</div>"
      ],
      "text/plain": [
       "   Stock  Quantity\n",
       "0   AAPL       200\n",
       "1  GOOGL       200"
      ]
     },
     "execution_count": 35,
     "metadata": {},
     "output_type": "execute_result"
    }
   ],
   "source": [
    "record_action_df = record_action(portfolio_df,transactions_df)\n",
    "record_action_df"
   ]
  },
  {
   "cell_type": "code",
   "execution_count": 48,
   "metadata": {},
   "outputs": [],
   "source": [
    "signal_df = pd.DataFrame({\n",
    "    'Date': ['2024-01-01', '2024-01-02', '2024-01-03'],\n",
    "    'Stock': ['AAPL', 'GOOGL', 'AAPL'],\n",
    "    'Action': ['Buy', 'Sell', 'Buy'],\n",
    "    'Quantity': [100, 200, 150],\n",
    "    'Price':[150,200,160]\n",
    "})"
   ]
  },
  {
   "cell_type": "code",
   "execution_count": 49,
   "metadata": {},
   "outputs": [
    {
     "data": {
      "text/html": [
       "<div>\n",
       "<style scoped>\n",
       "    .dataframe tbody tr th:only-of-type {\n",
       "        vertical-align: middle;\n",
       "    }\n",
       "\n",
       "    .dataframe tbody tr th {\n",
       "        vertical-align: top;\n",
       "    }\n",
       "\n",
       "    .dataframe thead th {\n",
       "        text-align: right;\n",
       "    }\n",
       "</style>\n",
       "<table border=\"1\" class=\"dataframe\">\n",
       "  <thead>\n",
       "    <tr style=\"text-align: right;\">\n",
       "      <th></th>\n",
       "      <th>Date</th>\n",
       "      <th>Stock</th>\n",
       "      <th>Action</th>\n",
       "      <th>Quantity</th>\n",
       "      <th>Price</th>\n",
       "    </tr>\n",
       "  </thead>\n",
       "  <tbody>\n",
       "    <tr>\n",
       "      <th>0</th>\n",
       "      <td>2024-01-01</td>\n",
       "      <td>AAPL</td>\n",
       "      <td>Buy</td>\n",
       "      <td>100</td>\n",
       "      <td>150</td>\n",
       "    </tr>\n",
       "    <tr>\n",
       "      <th>1</th>\n",
       "      <td>2024-01-02</td>\n",
       "      <td>GOOGL</td>\n",
       "      <td>Sell</td>\n",
       "      <td>200</td>\n",
       "      <td>200</td>\n",
       "    </tr>\n",
       "    <tr>\n",
       "      <th>2</th>\n",
       "      <td>2024-01-03</td>\n",
       "      <td>AAPL</td>\n",
       "      <td>Buy</td>\n",
       "      <td>150</td>\n",
       "      <td>160</td>\n",
       "    </tr>\n",
       "  </tbody>\n",
       "</table>\n",
       "</div>"
      ],
      "text/plain": [
       "         Date  Stock Action  Quantity  Price\n",
       "0  2024-01-01   AAPL    Buy       100    150\n",
       "1  2024-01-02  GOOGL   Sell       200    200\n",
       "2  2024-01-03   AAPL    Buy       150    160"
      ]
     },
     "execution_count": 49,
     "metadata": {},
     "output_type": "execute_result"
    }
   ],
   "source": [
    "signal_df.head()"
   ]
  },
  {
   "cell_type": "code",
   "execution_count": 50,
   "metadata": {},
   "outputs": [
    {
     "data": {
      "text/html": [
       "<div>\n",
       "<style scoped>\n",
       "    .dataframe tbody tr th:only-of-type {\n",
       "        vertical-align: middle;\n",
       "    }\n",
       "\n",
       "    .dataframe tbody tr th {\n",
       "        vertical-align: top;\n",
       "    }\n",
       "\n",
       "    .dataframe thead th {\n",
       "        text-align: right;\n",
       "    }\n",
       "</style>\n",
       "<table border=\"1\" class=\"dataframe\">\n",
       "  <thead>\n",
       "    <tr style=\"text-align: right;\">\n",
       "      <th></th>\n",
       "      <th>Date</th>\n",
       "      <th>Stock</th>\n",
       "      <th>Action</th>\n",
       "      <th>Quantity</th>\n",
       "      <th>Price</th>\n",
       "    </tr>\n",
       "  </thead>\n",
       "  <tbody>\n",
       "    <tr>\n",
       "      <th>0</th>\n",
       "      <td>2024-01-01</td>\n",
       "      <td>AAPL</td>\n",
       "      <td>Buy</td>\n",
       "      <td>100</td>\n",
       "      <td>150</td>\n",
       "    </tr>\n",
       "  </tbody>\n",
       "</table>\n",
       "</div>"
      ],
      "text/plain": [
       "         Date Stock Action  Quantity  Price\n",
       "0  2024-01-01  AAPL    Buy       100    150"
      ]
     },
     "execution_count": 50,
     "metadata": {},
     "output_type": "execute_result"
    }
   ],
   "source": [
    "transaction_df = record_action(signal_df, portfolio_df, recent_prices_df)\n",
    "transaction_df"
   ]
  }
 ],
 "metadata": {
  "kernelspec": {
   "display_name": "Python 3",
   "language": "python",
   "name": "python3"
  },
  "language_info": {
   "codemirror_mode": {
    "name": "ipython",
    "version": 3
   },
   "file_extension": ".py",
   "mimetype": "text/x-python",
   "name": "python",
   "nbconvert_exporter": "python",
   "pygments_lexer": "ipython3",
   "version": "3.10.6"
  }
 },
 "nbformat": 4,
 "nbformat_minor": 2
}
