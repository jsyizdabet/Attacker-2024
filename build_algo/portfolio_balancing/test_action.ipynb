{
 "cells": [
  {
   "cell_type": "code",
   "execution_count": 1,
   "metadata": {},
   "outputs": [],
   "source": [
    "import pandas as pd\n",
    "import numpy as np\n",
    "import vnstock as vn"
   ]
  },
  {
   "cell_type": "code",
   "execution_count": 4,
   "metadata": {},
   "outputs": [],
   "source": [
    "transactions_df = pd.DataFrame({\n",
    "    'Date': ['2024-01-01', '2024-01-02', '2024-01-03', '2024-01-04'],\n",
    "    'Stock': ['AAPL', 'GOOGL', 'MSFT', 'AAPL'],\n",
    "    'Action': ['Buy', 'Buy', 'Sell', 'Sell'],\n",
    "    'Quantity': [100,200,500,300],\n",
    "    'Price': [150, 2500, 200, 160]\n",
    "})\n",
    "\n",
    "recent_prices_df = pd.DataFrame({\n",
    "    'Stock': ['AAPL', 'GOOGL', 'MSFT'],\n",
    "    'Price': [155, 2600, 210]\n",
    "})\n",
    "\n",
    "portfolio_df = pd.DataFrame({\n",
    "    'Stock': ['AAPL', 'GOOGL'],\n",
    "    'Quantity': [100, 200]\n",
    "})"
   ]
  },
  {
   "cell_type": "code",
   "execution_count": 7,
   "metadata": {},
   "outputs": [
    {
     "data": {
      "text/html": [
       "<div>\n",
       "<style scoped>\n",
       "    .dataframe tbody tr th:only-of-type {\n",
       "        vertical-align: middle;\n",
       "    }\n",
       "\n",
       "    .dataframe tbody tr th {\n",
       "        vertical-align: top;\n",
       "    }\n",
       "\n",
       "    .dataframe thead th {\n",
       "        text-align: right;\n",
       "    }\n",
       "</style>\n",
       "<table border=\"1\" class=\"dataframe\">\n",
       "  <thead>\n",
       "    <tr style=\"text-align: right;\">\n",
       "      <th></th>\n",
       "      <th>Date</th>\n",
       "      <th>Stock</th>\n",
       "      <th>Action</th>\n",
       "      <th>Quantity</th>\n",
       "      <th>Price</th>\n",
       "    </tr>\n",
       "  </thead>\n",
       "  <tbody>\n",
       "    <tr>\n",
       "      <th>0</th>\n",
       "      <td>2024-01-01</td>\n",
       "      <td>AAPL</td>\n",
       "      <td>Buy</td>\n",
       "      <td>100</td>\n",
       "      <td>150</td>\n",
       "    </tr>\n",
       "    <tr>\n",
       "      <th>1</th>\n",
       "      <td>2024-01-02</td>\n",
       "      <td>GOOGL</td>\n",
       "      <td>Buy</td>\n",
       "      <td>200</td>\n",
       "      <td>2500</td>\n",
       "    </tr>\n",
       "    <tr>\n",
       "      <th>2</th>\n",
       "      <td>2024-01-03</td>\n",
       "      <td>MSFT</td>\n",
       "      <td>Sell</td>\n",
       "      <td>500</td>\n",
       "      <td>200</td>\n",
       "    </tr>\n",
       "    <tr>\n",
       "      <th>3</th>\n",
       "      <td>2024-01-04</td>\n",
       "      <td>AAPL</td>\n",
       "      <td>Sell</td>\n",
       "      <td>300</td>\n",
       "      <td>160</td>\n",
       "    </tr>\n",
       "  </tbody>\n",
       "</table>\n",
       "</div>"
      ],
      "text/plain": [
       "         Date  Stock Action  Quantity  Price\n",
       "0  2024-01-01   AAPL    Buy       100    150\n",
       "1  2024-01-02  GOOGL    Buy       200   2500\n",
       "2  2024-01-03   MSFT   Sell       500    200\n",
       "3  2024-01-04   AAPL   Sell       300    160"
      ]
     },
     "execution_count": 7,
     "metadata": {},
     "output_type": "execute_result"
    }
   ],
   "source": [
    "transactions_df"
   ]
  },
  {
   "cell_type": "code",
   "execution_count": 8,
   "metadata": {},
   "outputs": [
    {
     "data": {
      "text/html": [
       "<div>\n",
       "<style scoped>\n",
       "    .dataframe tbody tr th:only-of-type {\n",
       "        vertical-align: middle;\n",
       "    }\n",
       "\n",
       "    .dataframe tbody tr th {\n",
       "        vertical-align: top;\n",
       "    }\n",
       "\n",
       "    .dataframe thead th {\n",
       "        text-align: right;\n",
       "    }\n",
       "</style>\n",
       "<table border=\"1\" class=\"dataframe\">\n",
       "  <thead>\n",
       "    <tr style=\"text-align: right;\">\n",
       "      <th></th>\n",
       "      <th>Stock</th>\n",
       "      <th>Price</th>\n",
       "    </tr>\n",
       "  </thead>\n",
       "  <tbody>\n",
       "    <tr>\n",
       "      <th>0</th>\n",
       "      <td>AAPL</td>\n",
       "      <td>155</td>\n",
       "    </tr>\n",
       "    <tr>\n",
       "      <th>1</th>\n",
       "      <td>GOOGL</td>\n",
       "      <td>2600</td>\n",
       "    </tr>\n",
       "    <tr>\n",
       "      <th>2</th>\n",
       "      <td>MSFT</td>\n",
       "      <td>210</td>\n",
       "    </tr>\n",
       "  </tbody>\n",
       "</table>\n",
       "</div>"
      ],
      "text/plain": [
       "   Stock  Price\n",
       "0   AAPL    155\n",
       "1  GOOGL   2600\n",
       "2   MSFT    210"
      ]
     },
     "execution_count": 8,
     "metadata": {},
     "output_type": "execute_result"
    }
   ],
   "source": [
    "recent_prices_df"
   ]
  },
  {
   "cell_type": "code",
   "execution_count": 9,
   "metadata": {},
   "outputs": [
    {
     "data": {
      "text/html": [
       "<div>\n",
       "<style scoped>\n",
       "    .dataframe tbody tr th:only-of-type {\n",
       "        vertical-align: middle;\n",
       "    }\n",
       "\n",
       "    .dataframe tbody tr th {\n",
       "        vertical-align: top;\n",
       "    }\n",
       "\n",
       "    .dataframe thead th {\n",
       "        text-align: right;\n",
       "    }\n",
       "</style>\n",
       "<table border=\"1\" class=\"dataframe\">\n",
       "  <thead>\n",
       "    <tr style=\"text-align: right;\">\n",
       "      <th></th>\n",
       "      <th>Stock</th>\n",
       "      <th>Quantity</th>\n",
       "    </tr>\n",
       "  </thead>\n",
       "  <tbody>\n",
       "    <tr>\n",
       "      <th>0</th>\n",
       "      <td>AAPL</td>\n",
       "      <td>100</td>\n",
       "    </tr>\n",
       "    <tr>\n",
       "      <th>1</th>\n",
       "      <td>GOOGL</td>\n",
       "      <td>200</td>\n",
       "    </tr>\n",
       "  </tbody>\n",
       "</table>\n",
       "</div>"
      ],
      "text/plain": [
       "   Stock  Quantity\n",
       "0   AAPL       100\n",
       "1  GOOGL       200"
      ]
     },
     "execution_count": 9,
     "metadata": {},
     "output_type": "execute_result"
    }
   ],
   "source": [
    "portfolio_df"
   ]
  },
  {
   "cell_type": "code",
   "execution_count": 22,
   "metadata": {},
   "outputs": [],
   "source": [
    "def get_recent_price(stock_name):\n",
    "    recent_price = recent_prices_df.loc[recent_prices_df['Stock'] == stock_name, 'Price'].values[0]\n",
    "    return recent_price\n",
    "\n",
    "def calculate_daily_returns(transactions_df, recent_prices_df):\n",
    "    merged_df = pd.merge(transactions_df, recent_prices_df, on='Stock', how='left')\n",
    "    # Debugging: Print merged_df to inspect the data\n",
    "    print(\"Merged DataFrame:\")\n",
    "    print(merged_df)\n",
    "\n",
    "    daily_returns_df = pd.DataFrame()\n",
    "\n",
    "    for index, row in merged_df.iterrows():\n",
    "        if index > 0:\n",
    "            daily_return = (row['Price_x'] - merged_df.at[index - 1, 'Price_x']) / merged_df.at[index - 1, 'Price_x']\n",
    "        else:\n",
    "            daily_return = 0\n",
    "        daily_returns_df = daily_returns_df.append({'Date': row['Date'], 'Stock': row['Stock'], 'Daily Return': daily_return}, ignore_index=True)\n",
    "    \n",
    "    # for stock in merged_df['Stock'].unique():\n",
    "    #     stock_transactions = merged_df[merged_df['Stock'] == stock]\n",
    "    #     # if not stock_transactions.empty:\n",
    "    #     stock_transactions['Daily Return'] = stock_transactions['Price'].pct_change()\n",
    "    #     daily_returns_df = pd.concat([daily_returns_df, stock_transactions[['Date','Stock', 'Daily Return']]],ignore_index=True)\n",
    "        # daily_returns_df = daily_returns_df.append(stock_transactions[['Date', 'Stock','Daily Return']], ignore_index=True)\n",
    "    # merged_df['Daily Return'] = merged_df.groupby('Stock')['Price'].transform(lambda x: x.pct_change())\n",
    "    # daily_returns_df = merged_df[['Date', 'Stock', 'Daily Return']]\n",
    "    return daily_returns_df\n",
    "\n",
    "def cal_portfolio_daily_return(transactions_df,recent_prices_df, portfolio_df):\n",
    "    daily_returns_df = calculate_daily_returns(transactions_df, recent_prices_df)\n",
    "    merged_df = pd.merge(daily_returns_df, portfolio_df, on='Stock', how='inner')\n",
    "    merged_df['Weighted Return'] = merged_df['Daily Return'] * merged_df['Quantity']\n",
    "    total_weighted_return = merged_df['Weighted Return'].sum()\n",
    "    total_portfolio_quantity = merged_df['Quantity'].sum()\n",
    "    mean_return = total_weighted_return / total_portfolio_quantity\n",
    "    return mean_return\n",
    "\n",
    "def cal_port_current_value(portfolio_df, current_prices):\n",
    "    initial_value = 123\n",
    "\n",
    "    for asset, quantity in portfolio_df.items():\n",
    "        price = current_prices.get(asset, 0)\n",
    "        asset_value = price*quantity\n",
    "        current_value += asset_value\n",
    "    return current_value\n",
    "\n",
    "def record_action(portfolio_df, transactions_df):\n",
    "    for index, action in transactions_df.interrows():\n",
    "        date = transactions_df['Date']\n",
    "        stock = transactions_df['Stock']\n",
    "        action = transactions_df['Action']\n",
    "        quantity = transactions_df['Quantity']\n",
    "        price = transactions_df['Price']\n",
    "\n",
    "        stock_row = portfolio_df.loc[portfolio_df['Stock']== stock]\n",
    "\n",
    "        if action == 'Buy':\n",
    "            if not stock_row.empty:\n",
    "                portfolio_df.loc[portfolio_df['Stock'] == stock, 'Quantity'] += quantity\n",
    "            else:\n",
    "                portfolio_df = portfolio_df.append({'Stock': stock, 'Quantity': quantity, 'Price': price}, ignore_index = True)\n",
    "        elif action == 'Sell':\n",
    "            if not stock_row.empty:\n",
    "                portfolio_df.loc[portfolio_df['Stock']== stock, 'Quantity']-= quantity\n",
    "                if portfolio_df.loc[portfolio_df['Stock'] == stock, 'Quantity'].values[0] <= 0:\n",
    "                    portfolio_df = portfolio_df[portfolio_df['Stock'] != stock]\n",
    "        return portfolio_df\n"
   ]
  },
  {
   "cell_type": "code",
   "execution_count": null,
   "metadata": {},
   "outputs": [],
   "source": [
    "portfolio_daily_return_df = cal_portfolio_daily_return(transactions_df, recent_prices_df, portfolio_df)\n",
    "portfolio_daily_return_df.head()"
   ]
  },
  {
   "cell_type": "code",
   "execution_count": 24,
   "metadata": {},
   "outputs": [
    {
     "name": "stdout",
     "output_type": "stream",
     "text": [
      "Merged DataFrame:\n",
      "         Date  Stock Action  Quantity  Price_x  Price_y\n",
      "0  2024-01-01   AAPL    Buy       100      150      155\n",
      "1  2024-01-02  GOOGL    Buy       200     2500     2600\n",
      "2  2024-01-03   MSFT   Sell       500      200      210\n",
      "3  2024-01-04   AAPL   Sell       300      160      155\n"
     ]
    },
    {
     "ename": "KeyError",
     "evalue": "'Price'",
     "output_type": "error",
     "traceback": [
      "\u001b[1;31m---------------------------------------------------------------------------\u001b[0m",
      "\u001b[1;31mKeyError\u001b[0m                                  Traceback (most recent call last)",
      "File \u001b[1;32mc:\\Users\\ASUS\\AppData\\Local\\Programs\\Python\\Python310\\lib\\site-packages\\pandas\\core\\indexes\\base.py:3791\u001b[0m, in \u001b[0;36mIndex.get_loc\u001b[1;34m(self, key)\u001b[0m\n\u001b[0;32m   3790\u001b[0m \u001b[38;5;28;01mtry\u001b[39;00m:\n\u001b[1;32m-> 3791\u001b[0m     \u001b[38;5;28;01mreturn\u001b[39;00m \u001b[38;5;28;43mself\u001b[39;49m\u001b[38;5;241;43m.\u001b[39;49m\u001b[43m_engine\u001b[49m\u001b[38;5;241;43m.\u001b[39;49m\u001b[43mget_loc\u001b[49m\u001b[43m(\u001b[49m\u001b[43mcasted_key\u001b[49m\u001b[43m)\u001b[49m\n\u001b[0;32m   3792\u001b[0m \u001b[38;5;28;01mexcept\u001b[39;00m \u001b[38;5;167;01mKeyError\u001b[39;00m \u001b[38;5;28;01mas\u001b[39;00m err:\n",
      "File \u001b[1;32mindex.pyx:152\u001b[0m, in \u001b[0;36mpandas._libs.index.IndexEngine.get_loc\u001b[1;34m()\u001b[0m\n",
      "File \u001b[1;32mindex.pyx:181\u001b[0m, in \u001b[0;36mpandas._libs.index.IndexEngine.get_loc\u001b[1;34m()\u001b[0m\n",
      "File \u001b[1;32mpandas\\_libs\\hashtable_class_helper.pxi:7080\u001b[0m, in \u001b[0;36mpandas._libs.hashtable.PyObjectHashTable.get_item\u001b[1;34m()\u001b[0m\n",
      "File \u001b[1;32mpandas\\_libs\\hashtable_class_helper.pxi:7088\u001b[0m, in \u001b[0;36mpandas._libs.hashtable.PyObjectHashTable.get_item\u001b[1;34m()\u001b[0m\n",
      "\u001b[1;31mKeyError\u001b[0m: 'Price'",
      "\nThe above exception was the direct cause of the following exception:\n",
      "\u001b[1;31mKeyError\u001b[0m                                  Traceback (most recent call last)",
      "Cell \u001b[1;32mIn[24], line 1\u001b[0m\n\u001b[1;32m----> 1\u001b[0m daily_returns_df \u001b[38;5;241m=\u001b[39m \u001b[43mcalculate_daily_returns\u001b[49m\u001b[43m(\u001b[49m\u001b[43mtransactions_df\u001b[49m\u001b[43m,\u001b[49m\u001b[43m \u001b[49m\u001b[43mrecent_prices_df\u001b[49m\u001b[43m)\u001b[49m\n\u001b[0;32m      2\u001b[0m \u001b[38;5;28mprint\u001b[39m(\u001b[38;5;124m\"\u001b[39m\u001b[38;5;124mDaily Returns:\u001b[39m\u001b[38;5;124m\"\u001b[39m)\n\u001b[0;32m      3\u001b[0m \u001b[38;5;28mprint\u001b[39m(daily_returns_df)\n",
      "Cell \u001b[1;32mIn[22], line 16\u001b[0m, in \u001b[0;36mcalculate_daily_returns\u001b[1;34m(transactions_df, recent_prices_df)\u001b[0m\n\u001b[0;32m     14\u001b[0m     stock_transactions \u001b[38;5;241m=\u001b[39m merged_df[merged_df[\u001b[38;5;124m'\u001b[39m\u001b[38;5;124mStock\u001b[39m\u001b[38;5;124m'\u001b[39m] \u001b[38;5;241m==\u001b[39m stock]\n\u001b[0;32m     15\u001b[0m     \u001b[38;5;66;03m# if not stock_transactions.empty:\u001b[39;00m\n\u001b[1;32m---> 16\u001b[0m     stock_transactions[\u001b[38;5;124m'\u001b[39m\u001b[38;5;124mDaily Return\u001b[39m\u001b[38;5;124m'\u001b[39m] \u001b[38;5;241m=\u001b[39m \u001b[43mstock_transactions\u001b[49m\u001b[43m[\u001b[49m\u001b[38;5;124;43m'\u001b[39;49m\u001b[38;5;124;43mPrice\u001b[39;49m\u001b[38;5;124;43m'\u001b[39;49m\u001b[43m]\u001b[49m\u001b[38;5;241m.\u001b[39mpct_change()\n\u001b[0;32m     17\u001b[0m     daily_returns_df \u001b[38;5;241m=\u001b[39m pd\u001b[38;5;241m.\u001b[39mconcat([daily_returns_df, stock_transactions[[\u001b[38;5;124m'\u001b[39m\u001b[38;5;124mDate\u001b[39m\u001b[38;5;124m'\u001b[39m,\u001b[38;5;124m'\u001b[39m\u001b[38;5;124mStock\u001b[39m\u001b[38;5;124m'\u001b[39m, \u001b[38;5;124m'\u001b[39m\u001b[38;5;124mDaily Return\u001b[39m\u001b[38;5;124m'\u001b[39m]]],ignore_index\u001b[38;5;241m=\u001b[39m\u001b[38;5;28;01mTrue\u001b[39;00m)\n\u001b[0;32m     18\u001b[0m     \u001b[38;5;66;03m# daily_returns_df = daily_returns_df.append(stock_transactions[['Date', 'Stock','Daily Return']], ignore_index=True)\u001b[39;00m\n\u001b[0;32m     19\u001b[0m \u001b[38;5;66;03m# merged_df['Daily Return'] = merged_df.groupby('Stock')['Price'].transform(lambda x: x.pct_change())\u001b[39;00m\n\u001b[0;32m     20\u001b[0m \u001b[38;5;66;03m# daily_returns_df = merged_df[['Date', 'Stock', 'Daily Return']]\u001b[39;00m\n",
      "File \u001b[1;32mc:\\Users\\ASUS\\AppData\\Local\\Programs\\Python\\Python310\\lib\\site-packages\\pandas\\core\\frame.py:3893\u001b[0m, in \u001b[0;36mDataFrame.__getitem__\u001b[1;34m(self, key)\u001b[0m\n\u001b[0;32m   3891\u001b[0m \u001b[38;5;28;01mif\u001b[39;00m \u001b[38;5;28mself\u001b[39m\u001b[38;5;241m.\u001b[39mcolumns\u001b[38;5;241m.\u001b[39mnlevels \u001b[38;5;241m>\u001b[39m \u001b[38;5;241m1\u001b[39m:\n\u001b[0;32m   3892\u001b[0m     \u001b[38;5;28;01mreturn\u001b[39;00m \u001b[38;5;28mself\u001b[39m\u001b[38;5;241m.\u001b[39m_getitem_multilevel(key)\n\u001b[1;32m-> 3893\u001b[0m indexer \u001b[38;5;241m=\u001b[39m \u001b[38;5;28;43mself\u001b[39;49m\u001b[38;5;241;43m.\u001b[39;49m\u001b[43mcolumns\u001b[49m\u001b[38;5;241;43m.\u001b[39;49m\u001b[43mget_loc\u001b[49m\u001b[43m(\u001b[49m\u001b[43mkey\u001b[49m\u001b[43m)\u001b[49m\n\u001b[0;32m   3894\u001b[0m \u001b[38;5;28;01mif\u001b[39;00m is_integer(indexer):\n\u001b[0;32m   3895\u001b[0m     indexer \u001b[38;5;241m=\u001b[39m [indexer]\n",
      "File \u001b[1;32mc:\\Users\\ASUS\\AppData\\Local\\Programs\\Python\\Python310\\lib\\site-packages\\pandas\\core\\indexes\\base.py:3798\u001b[0m, in \u001b[0;36mIndex.get_loc\u001b[1;34m(self, key)\u001b[0m\n\u001b[0;32m   3793\u001b[0m     \u001b[38;5;28;01mif\u001b[39;00m \u001b[38;5;28misinstance\u001b[39m(casted_key, \u001b[38;5;28mslice\u001b[39m) \u001b[38;5;129;01mor\u001b[39;00m (\n\u001b[0;32m   3794\u001b[0m         \u001b[38;5;28misinstance\u001b[39m(casted_key, abc\u001b[38;5;241m.\u001b[39mIterable)\n\u001b[0;32m   3795\u001b[0m         \u001b[38;5;129;01mand\u001b[39;00m \u001b[38;5;28many\u001b[39m(\u001b[38;5;28misinstance\u001b[39m(x, \u001b[38;5;28mslice\u001b[39m) \u001b[38;5;28;01mfor\u001b[39;00m x \u001b[38;5;129;01min\u001b[39;00m casted_key)\n\u001b[0;32m   3796\u001b[0m     ):\n\u001b[0;32m   3797\u001b[0m         \u001b[38;5;28;01mraise\u001b[39;00m InvalidIndexError(key)\n\u001b[1;32m-> 3798\u001b[0m     \u001b[38;5;28;01mraise\u001b[39;00m \u001b[38;5;167;01mKeyError\u001b[39;00m(key) \u001b[38;5;28;01mfrom\u001b[39;00m \u001b[38;5;21;01merr\u001b[39;00m\n\u001b[0;32m   3799\u001b[0m \u001b[38;5;28;01mexcept\u001b[39;00m \u001b[38;5;167;01mTypeError\u001b[39;00m:\n\u001b[0;32m   3800\u001b[0m     \u001b[38;5;66;03m# If we have a listlike key, _check_indexing_error will raise\u001b[39;00m\n\u001b[0;32m   3801\u001b[0m     \u001b[38;5;66;03m#  InvalidIndexError. Otherwise we fall through and re-raise\u001b[39;00m\n\u001b[0;32m   3802\u001b[0m     \u001b[38;5;66;03m#  the TypeError.\u001b[39;00m\n\u001b[0;32m   3803\u001b[0m     \u001b[38;5;28mself\u001b[39m\u001b[38;5;241m.\u001b[39m_check_indexing_error(key)\n",
      "\u001b[1;31mKeyError\u001b[0m: 'Price'"
     ]
    }
   ],
   "source": [
    "daily_returns_df = calculate_daily_returns(transactions_df, recent_prices_df)\n",
    "print(\"Daily Returns:\")\n",
    "print(daily_returns_df)"
   ]
  }
 ],
 "metadata": {
  "kernelspec": {
   "display_name": "Python 3",
   "language": "python",
   "name": "python3"
  },
  "language_info": {
   "codemirror_mode": {
    "name": "ipython",
    "version": 3
   },
   "file_extension": ".py",
   "mimetype": "text/x-python",
   "name": "python",
   "nbconvert_exporter": "python",
   "pygments_lexer": "ipython3",
   "version": "3.10.6"
  }
 },
 "nbformat": 4,
 "nbformat_minor": 2
}
