{
 "cells": [
  {
   "cell_type": "code",
   "execution_count": 7,
   "metadata": {},
   "outputs": [],
   "source": [
    "import vnstock as vn\n",
    "from prophet import Prophet # Prophet dự đoán dựa theo thời vụ nên maybe tốt hơn Linear Regression \n",
    "from prophet.plot import plot_plotly\n",
    "import plotly.offline as pyo\n",
    "import plotly.graph_objs as go\n",
    "import matplotlib.pyplot as plt"
   ]
  },
  {
   "cell_type": "code",
   "execution_count": 8,
   "metadata": {},
   "outputs": [
    {
     "data": {
      "text/html": [
       "<div>\n",
       "<style scoped>\n",
       "    .dataframe tbody tr th:only-of-type {\n",
       "        vertical-align: middle;\n",
       "    }\n",
       "\n",
       "    .dataframe tbody tr th {\n",
       "        vertical-align: top;\n",
       "    }\n",
       "\n",
       "    .dataframe thead th {\n",
       "        text-align: right;\n",
       "    }\n",
       "</style>\n",
       "<table border=\"1\" class=\"dataframe\">\n",
       "  <thead>\n",
       "    <tr style=\"text-align: right;\">\n",
       "      <th></th>\n",
       "      <th>time</th>\n",
       "      <th>open</th>\n",
       "      <th>high</th>\n",
       "      <th>low</th>\n",
       "      <th>close</th>\n",
       "      <th>volume</th>\n",
       "      <th>ticker</th>\n",
       "    </tr>\n",
       "  </thead>\n",
       "  <tbody>\n",
       "    <tr>\n",
       "      <th>855</th>\n",
       "      <td>2022-06-08</td>\n",
       "      <td>68590</td>\n",
       "      <td>68590</td>\n",
       "      <td>66720</td>\n",
       "      <td>67060</td>\n",
       "      <td>1164700</td>\n",
       "      <td>VCB</td>\n",
       "    </tr>\n",
       "    <tr>\n",
       "      <th>955</th>\n",
       "      <td>2022-10-28</td>\n",
       "      <td>61390</td>\n",
       "      <td>63080</td>\n",
       "      <td>60630</td>\n",
       "      <td>60630</td>\n",
       "      <td>1561000</td>\n",
       "      <td>VCB</td>\n",
       "    </tr>\n",
       "    <tr>\n",
       "      <th>912</th>\n",
       "      <td>2022-08-26</td>\n",
       "      <td>69430</td>\n",
       "      <td>70870</td>\n",
       "      <td>69430</td>\n",
       "      <td>69860</td>\n",
       "      <td>1559500</td>\n",
       "      <td>VCB</td>\n",
       "    </tr>\n",
       "    <tr>\n",
       "      <th>744</th>\n",
       "      <td>2021-12-22</td>\n",
       "      <td>65200</td>\n",
       "      <td>65880</td>\n",
       "      <td>64860</td>\n",
       "      <td>65110</td>\n",
       "      <td>1915300</td>\n",
       "      <td>VCB</td>\n",
       "    </tr>\n",
       "    <tr>\n",
       "      <th>171</th>\n",
       "      <td>2019-09-12</td>\n",
       "      <td>50610</td>\n",
       "      <td>51260</td>\n",
       "      <td>50610</td>\n",
       "      <td>51260</td>\n",
       "      <td>800240</td>\n",
       "      <td>VCB</td>\n",
       "    </tr>\n",
       "  </tbody>\n",
       "</table>\n",
       "</div>"
      ],
      "text/plain": [
       "           time   open   high    low  close   volume ticker\n",
       "855  2022-06-08  68590  68590  66720  67060  1164700    VCB\n",
       "955  2022-10-28  61390  63080  60630  60630  1561000    VCB\n",
       "912  2022-08-26  69430  70870  69430  69860  1559500    VCB\n",
       "744  2021-12-22  65200  65880  64860  65110  1915300    VCB\n",
       "171  2019-09-12  50610  51260  50610  51260   800240    VCB"
      ]
     },
     "execution_count": 8,
     "metadata": {},
     "output_type": "execute_result"
    }
   ],
   "source": [
    "# Load data\n",
    "START = \"2019-01-01\"\n",
    "END = \"2024-02-01\"\n",
    "def load_data(ticker):\n",
    "        data = vn.stock_historical_data(ticker, START, END)    \n",
    "        return data\n",
    "data = load_data('VCB')\n",
    "data.sample(5)"
   ]
  },
  {
   "cell_type": "markdown",
   "metadata": {},
   "source": [
    "## Predict Close Price of each stock in portfolio (unit week)\n",
    "\n"
   ]
  },
  {
   "cell_type": "code",
   "execution_count": 9,
   "metadata": {},
   "outputs": [
    {
     "name": "stderr",
     "output_type": "stream",
     "text": [
      "11:00:10 - cmdstanpy - INFO - Chain [1] start processing\n",
      "11:00:10 - cmdstanpy - INFO - Chain [1] done processing\n"
     ]
    }
   ],
   "source": [
    "n_weeks = int(input(\"Enter the predicted number of weeks: \"))\n",
    "period = n_weeks * 7\n",
    "df_train = data[['time', 'close']]\n",
    "df_train = df_train.rename(columns={\"time\": \"ds\", \"close\":\"y\"}) #Rename thành \"ds\" với \"y\" vì mô hình Prophet bắt buộc\n",
    "\n",
    "# Use the Prophet model for training\n",
    "m = Prophet()\n",
    "m.fit(df_train)\n",
    "future = m.make_future_dataframe(period)\n",
    "forecast = m.predict(future)"
   ]
  },
  {
   "cell_type": "markdown",
   "metadata": {},
   "source": [
    "## Visualization:"
   ]
  },
  {
   "cell_type": "markdown",
   "metadata": {},
   "source": [
    "3 biểu đồ đều giống nhau, 2 biểu đồ sau để tương tác dễ dàng hơn."
   ]
  },
  {
   "cell_type": "code",
   "execution_count": 10,
   "metadata": {},
   "outputs": [
    {
     "ename": "TypeError",
     "evalue": "'module' object is not callable",
     "output_type": "error",
     "traceback": [
      "\u001b[1;31m---------------------------------------------------------------------------\u001b[0m",
      "\u001b[1;31mTypeError\u001b[0m                                 Traceback (most recent call last)",
      "Cell \u001b[1;32mIn[10], line 2\u001b[0m\n\u001b[0;32m      1\u001b[0m \u001b[38;5;66;03m# # Chart 1\u001b[39;00m\n\u001b[1;32m----> 2\u001b[0m \u001b[43mplt\u001b[49m\u001b[38;5;241;43m.\u001b[39;49m\u001b[43mfigure\u001b[49m\u001b[43m(\u001b[49m\u001b[43mfigsize\u001b[49m\u001b[38;5;241;43m=\u001b[39;49m\u001b[43m(\u001b[49m\u001b[38;5;241;43m10\u001b[39;49m\u001b[43m,\u001b[49m\u001b[43m \u001b[49m\u001b[38;5;241;43m6\u001b[39;49m\u001b[43m)\u001b[49m\u001b[43m)\u001b[49m\n\u001b[0;32m      3\u001b[0m plt\u001b[38;5;241m.\u001b[39mplot(forecast[\u001b[38;5;124m'\u001b[39m\u001b[38;5;124mds\u001b[39m\u001b[38;5;124m'\u001b[39m], forecast[\u001b[38;5;124m'\u001b[39m\u001b[38;5;124myhat\u001b[39m\u001b[38;5;124m'\u001b[39m], label\u001b[38;5;241m=\u001b[39m\u001b[38;5;124m'\u001b[39m\u001b[38;5;124mPredicted\u001b[39m\u001b[38;5;124m'\u001b[39m)\n\u001b[0;32m      4\u001b[0m plt\u001b[38;5;241m.\u001b[39mplot(df_train[\u001b[38;5;124m'\u001b[39m\u001b[38;5;124mds\u001b[39m\u001b[38;5;124m'\u001b[39m], df_train[\u001b[38;5;124m'\u001b[39m\u001b[38;5;124my\u001b[39m\u001b[38;5;124m'\u001b[39m], label\u001b[38;5;241m=\u001b[39m\u001b[38;5;124m'\u001b[39m\u001b[38;5;124mActual\u001b[39m\u001b[38;5;124m'\u001b[39m)\n",
      "\u001b[1;31mTypeError\u001b[0m: 'module' object is not callable"
     ]
    }
   ],
   "source": [
    "# # Chart 1\n",
    "plt.figure(figsize=(10, 6))\n",
    "plt.plot(forecast['ds'], forecast['yhat'], label='Predicted')\n",
    "plt.plot(df_train['ds'], df_train['y'], label='Actual')\n",
    "plt.xlabel('Date')\n",
    "plt.ylabel('Close Price')\n",
    "plt.title('Prediction vs Actual')\n",
    "plt.legend()\n",
    "plt.show()"
   ]
  },
  {
   "cell_type": "code",
   "execution_count": null,
   "metadata": {},
   "outputs": [
    {
     "data": {
      "text/plain": [
       "'temp-plot.html'"
      ]
     },
     "execution_count": 5,
     "metadata": {},
     "output_type": "execute_result"
    }
   ],
   "source": [
    "# Chart 2\n",
    "trace1 = go.Scatter(x=forecast['ds'], y=forecast['yhat'], name='Predicted')\n",
    "trace2 = go.Scatter(x=df_train['ds'], y=df_train['y'], name='Actual')\n",
    "data = [trace1, trace2]\n",
    "\n",
    "layout = go.Layout(\n",
    "    title='Prediction vs Actual',\n",
    "    xaxis=dict(title='Time'),\n",
    "    yaxis=dict(title='Close Price'),\n",
    "    legend=dict(x=0.7, y=0.9)\n",
    ")\n",
    "\n",
    "fig = go.Figure(data=data, layout=layout)\n",
    "pyo.plot(fig)"
   ]
  },
  {
   "cell_type": "code",
   "execution_count": null,
   "metadata": {},
   "outputs": [
    {
     "data": {
      "text/plain": [
       "'temp-plot.html'"
      ]
     },
     "execution_count": 6,
     "metadata": {},
     "output_type": "execute_result"
    }
   ],
   "source": [
    "# Chart 3\n",
    "fig1 = plot_plotly(m, forecast)\n",
    "fig1.update_layout(\n",
    "    title='Prediction vs Actual',\n",
    "    xaxis=dict(title='Time'),\n",
    "    yaxis=dict(title='Close Price'),\n",
    "    legend=dict(x=0.7, y=0.9)\n",
    ")\n",
    "\n",
    "pyo.plot(fig1)\n"
   ]
  }
 ],
 "metadata": {
  "kernelspec": {
   "display_name": "env",
   "language": "python",
   "name": "python3"
  },
  "language_info": {
   "codemirror_mode": {
    "name": "ipython",
    "version": 3
   },
   "file_extension": ".py",
   "mimetype": "text/x-python",
   "name": "python",
   "nbconvert_exporter": "python",
   "pygments_lexer": "ipython3",
   "version": "3.11.1"
  }
 },
 "nbformat": 4,
 "nbformat_minor": 2
}
