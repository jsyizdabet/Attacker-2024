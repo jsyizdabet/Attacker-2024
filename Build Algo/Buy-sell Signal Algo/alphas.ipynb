{
 "cells": [
  {
   "cell_type": "code",
   "execution_count": 324,
   "metadata": {},
   "outputs": [],
   "source": [
    "import pandas as pd\n",
    "import numpy as np\n",
    "import vnstock as vn\n",
    "import calculation as cal"
   ]
  },
  {
   "cell_type": "code",
   "execution_count": 325,
   "metadata": {},
   "outputs": [],
   "source": [
    "data = cal.DataProcessor.load_data('VCB') \n",
    "# data = data.set_index('time')\n",
    "#Tính trung bình 20 phiên gần nhất\n",
    "mean_20 = data['volume'].rolling(window=20).mean() \n",
    "#Tính on-balance volume\n",
    "data['on-balance_volume'] = data['volume']/mean_20 \n",
    "\n",
    "data['OBV_label'] = data['on-balance_volume'].apply(cal.DataProcessor.label_values)\n",
    "#Giá đóng cửa ngày t-1\n",
    "data['close_t_minus_1'] = data['close'].shift(1) \n",
    "data['bar_type'] = data.apply(cal.DataProcessor.compare_close_prices, axis=1)   \n",
    "data['para'] =abs(data['close'] - data['open'])/(data['high'] - data['low'])\n",
    "\n",
    "data['label_spread'] = data['para'].apply(cal.DataProcessor.label_spread)\n",
    "data['close_bar_label'] = data.apply(cal.DataProcessor.label_close_bar, axis=1)\n"
   ]
  },
  {
   "cell_type": "code",
   "execution_count": 326,
   "metadata": {},
   "outputs": [],
   "source": [
    "\n",
    "# df_filtered = data[data['bar_type'] == 'up-bar']\n",
    "# df_filtered\n"
   ]
  },
  {
   "cell_type": "markdown",
   "metadata": {},
   "source": [
    "# Pattern of Weakness"
   ]
  },
  {
   "cell_type": "markdown",
   "metadata": {},
   "source": [
    "## Weakness A\n",
    "- down bar\n",
    "- high volume\n",
    "- medium or low spread\n",
    "- close: middle-third or bottom-third"
   ]
  },
  {
   "cell_type": "code",
   "execution_count": 327,
   "metadata": {},
   "outputs": [],
   "source": [
    "def is_weakness_a_signal(data):\n",
    "    if (data['bar_type'] == 'down-bar') and \\\n",
    "        (data['OBV_label']=='high') and \\\n",
    "        ((data['label_spread'] == 'low') or (data['label_spread']=='medium')) and \\\n",
    "        ((data['close_bar_label'] == 'middle-third') or (data['close_bar_label']=='bottom-third')):\n",
    "        return True\n",
    "    else:\n",
    "        return False"
   ]
  },
  {
   "cell_type": "code",
   "execution_count": 328,
   "metadata": {},
   "outputs": [
    {
     "name": "stdout",
     "output_type": "stream",
     "text": [
      "Is weakness a signal? True\n"
     ]
    }
   ],
   "source": [
    "# Sample data\n",
    "sample_data = {\n",
    "    'bar_type': 'down-bar',\n",
    "    'OBV_label': 'high',\n",
    "    'label_spread': 'low',\n",
    "    'close_bar_label': 'middle-third'\n",
    "}\n",
    "result = is_weakness_a_signal(sample_data)\n",
    "print(\"Is weakness a signal?\", result)"
   ]
  },
  {
   "cell_type": "markdown",
   "metadata": {},
   "source": [
    "## No demand - Weakness B\n",
    "- up bar\n",
    "- volume: low or high\n",
    "- spread: low\n",
    "- close: bottom-third and middle-third"
   ]
  },
  {
   "cell_type": "code",
   "execution_count": 329,
   "metadata": {},
   "outputs": [],
   "source": [
    "def is_no_demand_signal(data):\n",
    "    if (data['bar_type'] == 'up-bar') and \\\n",
    "        ((data['OBV_label']=='high') or (data['OBV_label']=='low')) and \\\n",
    "        (data['label_spread'] == 'low') and \\\n",
    "        ((data['close_bar_label'] == 'bottom-third') or data['close_bar_label'] == 'middle-third'):\n",
    "        return True\n",
    "    else:\n",
    "        return False"
   ]
  },
  {
   "cell_type": "code",
   "execution_count": 330,
   "metadata": {},
   "outputs": [
    {
     "name": "stdout",
     "output_type": "stream",
     "text": [
      "Is no demand signal? False\n"
     ]
    }
   ],
   "source": [
    "result = is_no_demand_signal(sample_data)\n",
    "print(\"Is no demand signal?\", result)"
   ]
  },
  {
   "cell_type": "markdown",
   "metadata": {},
   "source": [
    "## Up-trust - Pseudo Up-trust\n",
    "- up bar or down bar \n",
    "- high spread\n",
    "- close: bottom-third\n",
    "- high or low volume\n"
   ]
  },
  {
   "cell_type": "code",
   "execution_count": 331,
   "metadata": {},
   "outputs": [],
   "source": [
    "def is_up_trust_signal(data):\n",
    "    if ((data['OBV_label']=='high') or (data['OBV_label']=='low')) and \\\n",
    "        (data['label_spread'] == 'high') and \\\n",
    "        ((data['close_bar_label'] == 'bottom-third') ):\n",
    "        return True\n",
    "    else:\n",
    "        return False"
   ]
  },
  {
   "cell_type": "markdown",
   "metadata": {},
   "source": [
    "## Stop volume\n",
    "- up bar\n",
    "- high spread\n",
    "- high volume"
   ]
  },
  {
   "cell_type": "code",
   "execution_count": 332,
   "metadata": {},
   "outputs": [],
   "source": [
    "def is_stop_volume_signal(data):\n",
    "    if (data['bar_type']=='up-bar') and \\\n",
    "        (data['OBV_label']=='high') and \\\n",
    "        (data['label_spread'] == 'high'):\n",
    "        return True\n",
    "    else:\n",
    "        return False"
   ]
  },
  {
   "cell_type": "code",
   "execution_count": 333,
   "metadata": {},
   "outputs": [
    {
     "name": "stdout",
     "output_type": "stream",
     "text": [
      "Số lượng 'True' tối đa: 80\n",
      "Thứ tự tốt nhất: (<function is_stop_volume_signal at 0x0000015313ACE2A0>, <function is_no_demand_signal at 0x0000015313ACDDA0>, <function is_weakness_a_signal at 0x00000153124A1800>, <function is_up_trust_signal at 0x00000153016EAD40>)\n"
     ]
    }
   ],
   "source": [
    "import itertools\n",
    "\n",
    "def count_true(data, order):\n",
    "    true_count = 0\n",
    "    \n",
    "    for i in range(len(data)):\n",
    "        if i % 4 == 0:\n",
    "            data.loc[i, 'results'] = order[0](data.loc[i])\n",
    "        elif i % 4 == 1:\n",
    "            data.loc[i, 'results'] = order[1](data.loc[i])\n",
    "        elif i % 4 == 2:\n",
    "            data.loc[i, 'results'] = order[2](data.loc[i])\n",
    "        elif i % 4 == 3:\n",
    "            data.loc[i, 'results'] = order[3](data.loc[i])\n",
    "        \n",
    "        if data.loc[i, 'results'] == True:\n",
    "            true_count += 1\n",
    "    \n",
    "    return true_count\n",
    "\n",
    "best_order = [is_weakness_a_signal, is_no_demand_signal, is_up_trust_signal, is_stop_volume_signal]\n",
    "max_true_count = 0\n",
    "\n",
    "for order in itertools.permutations(best_order):\n",
    "    true_count = count_true(data, order)\n",
    "    if true_count > max_true_count:\n",
    "        max_true_count = true_count\n",
    "        best_order = order\n",
    "\n",
    "print(\"Số lượng 'True' tối đa:\", max_true_count)\n",
    "print(\"Thứ tự tốt nhất:\", best_order)"
   ]
  },
  {
   "cell_type": "code",
   "execution_count": 334,
   "metadata": {},
   "outputs": [],
   "source": [
    "## Best order\n",
    "\n",
    "# for i in range(len(data)):\n",
    "\n",
    "#     if i % 4 == 0:\n",
    "#         data.loc[i, 'results'] = is_stop_volume_signal(data.loc[i])\n",
    "#     elif i % 4 == 1:\n",
    "#         data.loc[i, 'results'] = is_no_demand_signal(data.loc[i])\n",
    "#     elif i % 4 == 2:\n",
    "#         data.loc[i, 'results'] = is_weakness_a_signal(data.loc[i])\n",
    "#     elif i % 4 == 3:\n",
    "#         data.loc[i, 'results'] = is_up_trust_signal(data.loc[i])\n",
    "    \n",
    "# data"
   ]
  },
  {
   "cell_type": "code",
   "execution_count": 335,
   "metadata": {},
   "outputs": [
    {
     "data": {
      "text/plain": [
       "results\n",
       "False    1206\n",
       "True       68\n",
       "Name: count, dtype: int64"
      ]
     },
     "execution_count": 335,
     "metadata": {},
     "output_type": "execute_result"
    }
   ],
   "source": [
    "data['results'].value_counts()"
   ]
  },
  {
   "cell_type": "code",
   "execution_count": 336,
   "metadata": {},
   "outputs": [
    {
     "data": {
      "text/html": [
       "<div>\n",
       "<style scoped>\n",
       "    .dataframe tbody tr th:only-of-type {\n",
       "        vertical-align: middle;\n",
       "    }\n",
       "\n",
       "    .dataframe tbody tr th {\n",
       "        vertical-align: top;\n",
       "    }\n",
       "\n",
       "    .dataframe thead th {\n",
       "        text-align: right;\n",
       "    }\n",
       "</style>\n",
       "<table border=\"1\" class=\"dataframe\">\n",
       "  <thead>\n",
       "    <tr style=\"text-align: right;\">\n",
       "      <th></th>\n",
       "      <th>time</th>\n",
       "      <th>open</th>\n",
       "      <th>high</th>\n",
       "      <th>low</th>\n",
       "      <th>close</th>\n",
       "      <th>volume</th>\n",
       "      <th>ticker</th>\n",
       "      <th>on-balance_volume</th>\n",
       "      <th>OBV_label</th>\n",
       "      <th>close_t_minus_1</th>\n",
       "      <th>bar_type</th>\n",
       "      <th>para</th>\n",
       "      <th>label_spread</th>\n",
       "      <th>close_bar_label</th>\n",
       "      <th>results</th>\n",
       "      <th>execute_a_trade</th>\n",
       "    </tr>\n",
       "  </thead>\n",
       "  <tbody>\n",
       "    <tr>\n",
       "      <th>0</th>\n",
       "      <td>2019-01-02</td>\n",
       "      <td>34750</td>\n",
       "      <td>35010</td>\n",
       "      <td>34490</td>\n",
       "      <td>34560</td>\n",
       "      <td>1081640</td>\n",
       "      <td>VCB</td>\n",
       "      <td>NaN</td>\n",
       "      <td>NaN</td>\n",
       "      <td>NaN</td>\n",
       "      <td>down-bar</td>\n",
       "      <td>0.365385</td>\n",
       "      <td>medium</td>\n",
       "      <td>bottom-third</td>\n",
       "      <td>False</td>\n",
       "      <td>hold</td>\n",
       "    </tr>\n",
       "    <tr>\n",
       "      <th>1</th>\n",
       "      <td>2019-01-03</td>\n",
       "      <td>34820</td>\n",
       "      <td>34880</td>\n",
       "      <td>33980</td>\n",
       "      <td>34560</td>\n",
       "      <td>1071350</td>\n",
       "      <td>VCB</td>\n",
       "      <td>NaN</td>\n",
       "      <td>NaN</td>\n",
       "      <td>34560.0</td>\n",
       "      <td>down-bar</td>\n",
       "      <td>0.288889</td>\n",
       "      <td>low</td>\n",
       "      <td>middle-third</td>\n",
       "      <td>False</td>\n",
       "      <td>hold</td>\n",
       "    </tr>\n",
       "    <tr>\n",
       "      <th>2</th>\n",
       "      <td>2019-01-04</td>\n",
       "      <td>34370</td>\n",
       "      <td>35080</td>\n",
       "      <td>33910</td>\n",
       "      <td>35080</td>\n",
       "      <td>1307310</td>\n",
       "      <td>VCB</td>\n",
       "      <td>NaN</td>\n",
       "      <td>NaN</td>\n",
       "      <td>34560.0</td>\n",
       "      <td>up-bar</td>\n",
       "      <td>0.606838</td>\n",
       "      <td>medium</td>\n",
       "      <td>top-third</td>\n",
       "      <td>False</td>\n",
       "      <td>hold</td>\n",
       "    </tr>\n",
       "    <tr>\n",
       "      <th>3</th>\n",
       "      <td>2019-01-07</td>\n",
       "      <td>35660</td>\n",
       "      <td>35780</td>\n",
       "      <td>35140</td>\n",
       "      <td>35200</td>\n",
       "      <td>1175810</td>\n",
       "      <td>VCB</td>\n",
       "      <td>NaN</td>\n",
       "      <td>NaN</td>\n",
       "      <td>35080.0</td>\n",
       "      <td>up-bar</td>\n",
       "      <td>0.718750</td>\n",
       "      <td>high</td>\n",
       "      <td>bottom-third</td>\n",
       "      <td>False</td>\n",
       "      <td>hold</td>\n",
       "    </tr>\n",
       "    <tr>\n",
       "      <th>4</th>\n",
       "      <td>2019-01-08</td>\n",
       "      <td>35460</td>\n",
       "      <td>35590</td>\n",
       "      <td>35140</td>\n",
       "      <td>35460</td>\n",
       "      <td>1318810</td>\n",
       "      <td>VCB</td>\n",
       "      <td>NaN</td>\n",
       "      <td>NaN</td>\n",
       "      <td>35200.0</td>\n",
       "      <td>up-bar</td>\n",
       "      <td>0.000000</td>\n",
       "      <td>high</td>\n",
       "      <td>top-third</td>\n",
       "      <td>False</td>\n",
       "      <td>hold</td>\n",
       "    </tr>\n",
       "  </tbody>\n",
       "</table>\n",
       "</div>"
      ],
      "text/plain": [
       "         time   open   high    low  close   volume ticker  on-balance_volume  \\\n",
       "0  2019-01-02  34750  35010  34490  34560  1081640    VCB                NaN   \n",
       "1  2019-01-03  34820  34880  33980  34560  1071350    VCB                NaN   \n",
       "2  2019-01-04  34370  35080  33910  35080  1307310    VCB                NaN   \n",
       "3  2019-01-07  35660  35780  35140  35200  1175810    VCB                NaN   \n",
       "4  2019-01-08  35460  35590  35140  35460  1318810    VCB                NaN   \n",
       "\n",
       "  OBV_label  close_t_minus_1  bar_type      para label_spread close_bar_label  \\\n",
       "0       NaN              NaN  down-bar  0.365385       medium    bottom-third   \n",
       "1       NaN          34560.0  down-bar  0.288889          low    middle-third   \n",
       "2       NaN          34560.0    up-bar  0.606838       medium       top-third   \n",
       "3       NaN          35080.0    up-bar  0.718750         high    bottom-third   \n",
       "4       NaN          35200.0    up-bar  0.000000         high       top-third   \n",
       "\n",
       "  results execute_a_trade  \n",
       "0   False            hold  \n",
       "1   False            hold  \n",
       "2   False            hold  \n",
       "3   False            hold  \n",
       "4   False            hold  "
      ]
     },
     "execution_count": 336,
     "metadata": {},
     "output_type": "execute_result"
    }
   ],
   "source": [
    "# Tạo cột \"Lệnh\"\n",
    "data['execute_a_trade'] = 'hold'  # Đặt mặc định là \"Hold\"\n",
    "\n",
    "window_size =4  # Kích thước cửa sổ\n",
    "\n",
    "data['rolling_sum'] = data['results'].rolling(window_size).sum()\n",
    "\n",
    "data.loc[data['rolling_sum'] == window_size, 'execute_a_trade'] = 'buy'\n",
    "\n",
    "data = data.drop(columns='rolling_sum')\n",
    "\n",
    "data.head(5)"
   ]
  },
  {
   "cell_type": "code",
   "execution_count": 337,
   "metadata": {},
   "outputs": [],
   "source": [
    "# Example\n",
    "# # Tạo DataFrame mẫu\n",
    "# data1 = {'ngay': ['2024-02-25', '2024-02-26', '2024-02-27', '2024-02-28', '2024-03-01', '2024-03-02','2024-03-03', '2024-03-04', '2024-03-05'],\n",
    "#         'results': [False, True, True, True, True, True, False, True, True]}\n",
    "# df = pd.DataFrame(data1)\n",
    "# # Tạo cột \"Lệnh\"\n",
    "# df['execute_a_trade'] = 'hold'  # Đặt mặc định là \"Hold\"\n",
    "\n",
    "# window_size = 4  # Kích thước cửa sổ\n",
    "\n",
    "# df['rolling_sum'] = df['results'].rolling(window_size).sum()\n",
    "\n",
    "# df.loc[df['rolling_sum'] == window_size, 'execute_a_trade'] = 'buy'\n",
    "\n",
    "# df = df.drop(columns='rolling_sum')\n",
    "\n",
    "# print(df)"
   ]
  },
  {
   "cell_type": "code",
   "execution_count": 338,
   "metadata": {},
   "outputs": [
    {
     "data": {
      "text/html": [
       "<div>\n",
       "<style scoped>\n",
       "    .dataframe tbody tr th:only-of-type {\n",
       "        vertical-align: middle;\n",
       "    }\n",
       "\n",
       "    .dataframe tbody tr th {\n",
       "        vertical-align: top;\n",
       "    }\n",
       "\n",
       "    .dataframe thead th {\n",
       "        text-align: right;\n",
       "    }\n",
       "</style>\n",
       "<table border=\"1\" class=\"dataframe\">\n",
       "  <thead>\n",
       "    <tr style=\"text-align: right;\">\n",
       "      <th></th>\n",
       "      <th>time</th>\n",
       "      <th>OBV_label</th>\n",
       "      <th>bar_type</th>\n",
       "      <th>label_spread</th>\n",
       "      <th>close_bar_label</th>\n",
       "      <th>results</th>\n",
       "      <th>execute_a_trade</th>\n",
       "    </tr>\n",
       "  </thead>\n",
       "  <tbody>\n",
       "    <tr>\n",
       "      <th>0</th>\n",
       "      <td>2019-01-02</td>\n",
       "      <td>NaN</td>\n",
       "      <td>down-bar</td>\n",
       "      <td>medium</td>\n",
       "      <td>bottom-third</td>\n",
       "      <td>False</td>\n",
       "      <td>hold</td>\n",
       "    </tr>\n",
       "    <tr>\n",
       "      <th>1</th>\n",
       "      <td>2019-01-03</td>\n",
       "      <td>NaN</td>\n",
       "      <td>down-bar</td>\n",
       "      <td>low</td>\n",
       "      <td>middle-third</td>\n",
       "      <td>False</td>\n",
       "      <td>hold</td>\n",
       "    </tr>\n",
       "    <tr>\n",
       "      <th>2</th>\n",
       "      <td>2019-01-04</td>\n",
       "      <td>NaN</td>\n",
       "      <td>up-bar</td>\n",
       "      <td>medium</td>\n",
       "      <td>top-third</td>\n",
       "      <td>False</td>\n",
       "      <td>hold</td>\n",
       "    </tr>\n",
       "    <tr>\n",
       "      <th>3</th>\n",
       "      <td>2019-01-07</td>\n",
       "      <td>NaN</td>\n",
       "      <td>up-bar</td>\n",
       "      <td>high</td>\n",
       "      <td>bottom-third</td>\n",
       "      <td>False</td>\n",
       "      <td>hold</td>\n",
       "    </tr>\n",
       "    <tr>\n",
       "      <th>4</th>\n",
       "      <td>2019-01-08</td>\n",
       "      <td>NaN</td>\n",
       "      <td>up-bar</td>\n",
       "      <td>high</td>\n",
       "      <td>top-third</td>\n",
       "      <td>False</td>\n",
       "      <td>hold</td>\n",
       "    </tr>\n",
       "  </tbody>\n",
       "</table>\n",
       "</div>"
      ],
      "text/plain": [
       "         time OBV_label  bar_type label_spread close_bar_label results  \\\n",
       "0  2019-01-02       NaN  down-bar       medium    bottom-third   False   \n",
       "1  2019-01-03       NaN  down-bar          low    middle-third   False   \n",
       "2  2019-01-04       NaN    up-bar       medium       top-third   False   \n",
       "3  2019-01-07       NaN    up-bar         high    bottom-third   False   \n",
       "4  2019-01-08       NaN    up-bar         high       top-third   False   \n",
       "\n",
       "  execute_a_trade  \n",
       "0            hold  \n",
       "1            hold  \n",
       "2            hold  \n",
       "3            hold  \n",
       "4            hold  "
      ]
     },
     "execution_count": 338,
     "metadata": {},
     "output_type": "execute_result"
    }
   ],
   "source": [
    "data[['time', 'OBV_label', 'bar_type', 'label_spread', 'close_bar_label', 'results', 'execute_a_trade']].head(5)"
   ]
  },
  {
   "cell_type": "code",
   "execution_count": 339,
   "metadata": {},
   "outputs": [
    {
     "data": {
      "text/plain": [
       "execute_a_trade\n",
       "hold    1274\n",
       "Name: count, dtype: int64"
      ]
     },
     "execution_count": 339,
     "metadata": {},
     "output_type": "execute_result"
    }
   ],
   "source": [
    "data['execute_a_trade'].value_counts()"
   ]
  },
  {
   "cell_type": "markdown",
   "metadata": {},
   "source": [
    "# Power pattern"
   ]
  },
  {
   "cell_type": "markdown",
   "metadata": {},
   "source": [
    "## Power A\n",
    "- up bar\n",
    "- medium spread\n",
    "- medium or high volume\n",
    "- close: top-third"
   ]
  },
  {
   "cell_type": "code",
   "execution_count": 340,
   "metadata": {},
   "outputs": [],
   "source": [
    "def is_power_A_signal(data):\n",
    "    if (data['bar_type'] == 'up-bar') and \\\n",
    "        (data['label_spread'] == 'medium') and \\\n",
    "        ((data['OBV_label']=='medium') or (data['OBV_label'] == 'low')) and \\\n",
    "        (data['close_bar_label'] == 'top-third'):\n",
    "        return True\n",
    "    else:\n",
    "        return False"
   ]
  },
  {
   "cell_type": "markdown",
   "metadata": {},
   "source": [
    "## Power B - Lack of order\n",
    "- down bar \n",
    "- low spread \n",
    "- low or high volume\n",
    "- close: top-third or bottom-third"
   ]
  },
  {
   "cell_type": "code",
   "execution_count": 341,
   "metadata": {},
   "outputs": [],
   "source": [
    "def is_power_B_signal(data):\n",
    "    if (data['bar_type'] == 'down-bar') and \\\n",
    "        (data['label_spread'] == 'low') and \\\n",
    "        ((data['OBV_label']=='low') or (data['OBV_label'] == 'high')) and \\\n",
    "        ((data['close_bar_label'] == 'top-third') or (data['close_bar_label'] == 'bottom-third')):\n",
    "        return True\n",
    "    else:\n",
    "        return False"
   ]
  },
  {
   "cell_type": "markdown",
   "metadata": {},
   "source": [
    "## Reverse Up-Trust - Pseudo Up-trust\n",
    "- up bar or down bar \n",
    "- high spread\n",
    "- close: bottom-third\n",
    "- high and low volume\n"
   ]
  },
  {
   "cell_type": "code",
   "execution_count": 342,
   "metadata": {},
   "outputs": [],
   "source": [
    "def is_reverse_up_trust_signal(data):\n",
    "    if ((data['bar_type'] == 'down-bar') or (data['bar_type']) == 'up-bar') and \\\n",
    "        (data['label_spread'] == 'high') and \\\n",
    "        ((data['OBV_label']=='low') or (data['OBV_label'] == 'high')) and \\\n",
    "        (data['close_bar_label'] == 'bottom-third'):\n",
    "        return True\n",
    "    else:\n",
    "        return False"
   ]
  },
  {
   "cell_type": "markdown",
   "metadata": {},
   "source": [
    "## Stopped volume\n",
    "- down bar\n",
    "- low spread\n",
    "- close: middle-third\n",
    "- high volume\n"
   ]
  },
  {
   "cell_type": "code",
   "execution_count": 343,
   "metadata": {},
   "outputs": [],
   "source": [
    "def is_stopped_volume_signal(data):\n",
    "    if (data['bar_type'] == 'down-bar') and \\\n",
    "        (data['label_spread'] == 'low') and \\\n",
    "        (data['OBV_label'] == 'high') and \\\n",
    "        (data['close_bar_label'] == 'middle-third'):\n",
    "        return True\n",
    "    else:\n",
    "        return False"
   ]
  }
 ],
 "metadata": {
  "kernelspec": {
   "display_name": "Python 3",
   "language": "python",
   "name": "python3"
  },
  "language_info": {
   "codemirror_mode": {
    "name": "ipython",
    "version": 3
   },
   "file_extension": ".py",
   "mimetype": "text/x-python",
   "name": "python",
   "nbconvert_exporter": "python",
   "pygments_lexer": "ipython3",
   "version": "3.11.1"
  }
 },
 "nbformat": 4,
 "nbformat_minor": 2
}
