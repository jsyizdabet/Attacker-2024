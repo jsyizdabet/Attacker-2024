{
 "cells": [
  {
   "cell_type": "code",
   "execution_count": 15,
   "metadata": {},
   "outputs": [],
   "source": [
    "import pandas as pd\n",
    "import numpy as np\n",
    "import vnstock as vn\n",
    "import calculation as cal"
   ]
  },
  {
   "cell_type": "code",
   "execution_count": 16,
   "metadata": {},
   "outputs": [],
   "source": [
    "data = cal.DataProcessor.load_data('VCB') \n",
    "data = data.set_index('time')\n",
    "#Tính trung bình 20 phiên gần nhất\n",
    "mean_20 = data['volume'].rolling(window=20).mean() \n",
    "#Tính on-balance volume\n",
    "data['on-balance_volume'] = data['volume']/mean_20 \n",
    "\n",
    "data['OBV_label'] = data['on-balance_volume'].apply(cal.DataProcessor.label_values)\n",
    "#Giá đóng cửa ngày t-1\n",
    "data['close_t_minus_1'] = data['close'].shift(1) \n",
    "data['bar_type'] = data.apply(cal.DataProcessor.compare_close_prices, axis=1)   \n",
    "data['para'] =abs(data['close'] - data['open'])/(data['high'] - data['low'])\n",
    "\n",
    "data['label_spread'] = data['para'].apply(cal.DataProcessor.label_spread)\n",
    "data['close_bar_label'] = data.apply(cal.DataProcessor.label_close_bar, axis=1)\n"
   ]
  },
  {
   "cell_type": "code",
   "execution_count": 17,
   "metadata": {},
   "outputs": [
    {
     "data": {
      "text/html": [
       "<div>\n",
       "<style scoped>\n",
       "    .dataframe tbody tr th:only-of-type {\n",
       "        vertical-align: middle;\n",
       "    }\n",
       "\n",
       "    .dataframe tbody tr th {\n",
       "        vertical-align: top;\n",
       "    }\n",
       "\n",
       "    .dataframe thead th {\n",
       "        text-align: right;\n",
       "    }\n",
       "</style>\n",
       "<table border=\"1\" class=\"dataframe\">\n",
       "  <thead>\n",
       "    <tr style=\"text-align: right;\">\n",
       "      <th></th>\n",
       "      <th>open</th>\n",
       "      <th>high</th>\n",
       "      <th>low</th>\n",
       "      <th>close</th>\n",
       "      <th>volume</th>\n",
       "      <th>ticker</th>\n",
       "      <th>on-balance_volume</th>\n",
       "      <th>OBV_label</th>\n",
       "      <th>close_t_minus_1</th>\n",
       "      <th>bar_type</th>\n",
       "      <th>para</th>\n",
       "      <th>label_spread</th>\n",
       "      <th>close_bar_label</th>\n",
       "    </tr>\n",
       "    <tr>\n",
       "      <th>time</th>\n",
       "      <th></th>\n",
       "      <th></th>\n",
       "      <th></th>\n",
       "      <th></th>\n",
       "      <th></th>\n",
       "      <th></th>\n",
       "      <th></th>\n",
       "      <th></th>\n",
       "      <th></th>\n",
       "      <th></th>\n",
       "      <th></th>\n",
       "      <th></th>\n",
       "      <th></th>\n",
       "    </tr>\n",
       "  </thead>\n",
       "  <tbody>\n",
       "    <tr>\n",
       "      <th>2019-01-02</th>\n",
       "      <td>34750</td>\n",
       "      <td>35010</td>\n",
       "      <td>34490</td>\n",
       "      <td>34560</td>\n",
       "      <td>1081640</td>\n",
       "      <td>VCB</td>\n",
       "      <td>NaN</td>\n",
       "      <td>NaN</td>\n",
       "      <td>NaN</td>\n",
       "      <td>down-bar</td>\n",
       "      <td>0.365385</td>\n",
       "      <td>medium</td>\n",
       "      <td>bottom-third</td>\n",
       "    </tr>\n",
       "    <tr>\n",
       "      <th>2019-01-03</th>\n",
       "      <td>34820</td>\n",
       "      <td>34880</td>\n",
       "      <td>33980</td>\n",
       "      <td>34560</td>\n",
       "      <td>1071350</td>\n",
       "      <td>VCB</td>\n",
       "      <td>NaN</td>\n",
       "      <td>NaN</td>\n",
       "      <td>34560.0</td>\n",
       "      <td>down-bar</td>\n",
       "      <td>0.288889</td>\n",
       "      <td>low</td>\n",
       "      <td>middle-third</td>\n",
       "    </tr>\n",
       "    <tr>\n",
       "      <th>2019-01-04</th>\n",
       "      <td>34370</td>\n",
       "      <td>35080</td>\n",
       "      <td>33910</td>\n",
       "      <td>35080</td>\n",
       "      <td>1307310</td>\n",
       "      <td>VCB</td>\n",
       "      <td>NaN</td>\n",
       "      <td>NaN</td>\n",
       "      <td>34560.0</td>\n",
       "      <td>up-bar</td>\n",
       "      <td>0.606838</td>\n",
       "      <td>medium</td>\n",
       "      <td>top-third</td>\n",
       "    </tr>\n",
       "    <tr>\n",
       "      <th>2019-01-07</th>\n",
       "      <td>35660</td>\n",
       "      <td>35780</td>\n",
       "      <td>35140</td>\n",
       "      <td>35200</td>\n",
       "      <td>1175810</td>\n",
       "      <td>VCB</td>\n",
       "      <td>NaN</td>\n",
       "      <td>NaN</td>\n",
       "      <td>35080.0</td>\n",
       "      <td>up-bar</td>\n",
       "      <td>0.718750</td>\n",
       "      <td>high</td>\n",
       "      <td>bottom-third</td>\n",
       "    </tr>\n",
       "    <tr>\n",
       "      <th>2019-01-08</th>\n",
       "      <td>35460</td>\n",
       "      <td>35590</td>\n",
       "      <td>35140</td>\n",
       "      <td>35460</td>\n",
       "      <td>1318810</td>\n",
       "      <td>VCB</td>\n",
       "      <td>NaN</td>\n",
       "      <td>NaN</td>\n",
       "      <td>35200.0</td>\n",
       "      <td>up-bar</td>\n",
       "      <td>0.000000</td>\n",
       "      <td>high</td>\n",
       "      <td>top-third</td>\n",
       "    </tr>\n",
       "  </tbody>\n",
       "</table>\n",
       "</div>"
      ],
      "text/plain": [
       "             open   high    low  close   volume ticker  on-balance_volume  \\\n",
       "time                                                                        \n",
       "2019-01-02  34750  35010  34490  34560  1081640    VCB                NaN   \n",
       "2019-01-03  34820  34880  33980  34560  1071350    VCB                NaN   \n",
       "2019-01-04  34370  35080  33910  35080  1307310    VCB                NaN   \n",
       "2019-01-07  35660  35780  35140  35200  1175810    VCB                NaN   \n",
       "2019-01-08  35460  35590  35140  35460  1318810    VCB                NaN   \n",
       "\n",
       "           OBV_label  close_t_minus_1  bar_type      para label_spread  \\\n",
       "time                                                                     \n",
       "2019-01-02       NaN              NaN  down-bar  0.365385       medium   \n",
       "2019-01-03       NaN          34560.0  down-bar  0.288889          low   \n",
       "2019-01-04       NaN          34560.0    up-bar  0.606838       medium   \n",
       "2019-01-07       NaN          35080.0    up-bar  0.718750         high   \n",
       "2019-01-08       NaN          35200.0    up-bar  0.000000         high   \n",
       "\n",
       "           close_bar_label  \n",
       "time                        \n",
       "2019-01-02    bottom-third  \n",
       "2019-01-03    middle-third  \n",
       "2019-01-04       top-third  \n",
       "2019-01-07    bottom-third  \n",
       "2019-01-08       top-third  "
      ]
     },
     "execution_count": 17,
     "metadata": {},
     "output_type": "execute_result"
    }
   ],
   "source": [
    "data.head()"
   ]
  },
  {
   "cell_type": "markdown",
   "metadata": {},
   "source": [
    "## Weakness A\n",
    "- Down bar\n",
    "- High volume\n",
    "- Medium or low spread\n",
    "- Closing in the middle-third or  bottom-third of the bar"
   ]
  },
  {
   "cell_type": "code",
   "execution_count": 18,
   "metadata": {},
   "outputs": [],
   "source": [
    "def is_weakness_a_signal(data):\n",
    "    if (data['bar_type'] == 'down-bar') and \\\n",
    "        (data['OBV_label']=='high') and \\\n",
    "        ((data['label_spread'] == 'low') or (data['label_spread']=='medium')) and \\\n",
    "        ((data['close_bar_label'] == 'middle-third') or (data['close_bar_label']=='bottom-third')):\n",
    "        return True\n",
    "    else:\n",
    "        return False"
   ]
  },
  {
   "cell_type": "code",
   "execution_count": 19,
   "metadata": {},
   "outputs": [
    {
     "name": "stdout",
     "output_type": "stream",
     "text": [
      "Is weakness a signal? True\n"
     ]
    }
   ],
   "source": [
    "# Sample data\n",
    "sample_data = {\n",
    "    'bar_type': 'down-bar',\n",
    "    'OBV_label': 'high',\n",
    "    'label_spread': 'low',\n",
    "    'close_bar_label': 'middle-third'\n",
    "}\n",
    "result = is_weakness_a_signal(sample_data)\n",
    "print(\"Is weakness a signal?\", result)"
   ]
  },
  {
   "cell_type": "markdown",
   "metadata": {},
   "source": [
    "## No demand\n",
    "- up bar\n",
    "- volume: low or high\n",
    "- spread: low or high\n",
    "- close: bottom-third"
   ]
  },
  {
   "cell_type": "code",
   "execution_count": 20,
   "metadata": {},
   "outputs": [],
   "source": [
    "def is_nodemand_signal(data):\n",
    "    if (data['bar_type'] == 'up-bar') and \\\n",
    "        ((data['OBV_label']=='high') or (data['OBV_label']=='low')) and \\\n",
    "        ((data['label_spread'] == 'low') or (data['label_spread']=='high')) and \\\n",
    "        ((data['close_bar_label'] == 'bottom-third') ):\n",
    "        return True\n",
    "    else:\n",
    "        return False"
   ]
  },
  {
   "cell_type": "code",
   "execution_count": 21,
   "metadata": {},
   "outputs": [
    {
     "name": "stdout",
     "output_type": "stream",
     "text": [
      "Is no demand signal? False\n"
     ]
    }
   ],
   "source": [
    "result = is_nodemand_signal(sample_data)\n",
    "print(\"Is no demand signal?\", result)"
   ]
  },
  {
   "cell_type": "markdown",
   "metadata": {},
   "source": [
    "## Up trust\n",
    "- Up bar or down bar (This bar must update the local maximum and its maximum should not be redrawn)\n",
    "- Spread high\n",
    "- The closing should be in the lower third\n",
    "- Volume is high or very high\n"
   ]
  },
  {
   "cell_type": "code",
   "execution_count": 22,
   "metadata": {},
   "outputs": [],
   "source": [
    "def is_up_trust_signal(data):\n",
    "    if ((data['OBV_label']=='high') or (data['OBV_label']=='low')) and \\\n",
    "        (data['label_spread'] == 'high') and \\\n",
    "        ((data['close_bar_label'] == 'bottom-third') ):\n",
    "        return True\n",
    "    else:\n",
    "        return False"
   ]
  },
  {
   "cell_type": "markdown",
   "metadata": {},
   "source": [
    "## Stop volume\n",
    "- up bar\n",
    "- high spread\n",
    "- high volume"
   ]
  },
  {
   "cell_type": "code",
   "execution_count": 23,
   "metadata": {},
   "outputs": [],
   "source": [
    "def is_stop_volume_signal(data):\n",
    "    if (data['bar_type']=='up-bar') and \\\n",
    "        (data['OBV_label']=='high') and \\\n",
    "        (data['label_spread'] == 'high'):\n",
    "        return True\n",
    "    else:\n",
    "        return False"
   ]
  }
 ],
 "metadata": {
  "kernelspec": {
   "display_name": "Python 3",
   "language": "python",
   "name": "python3"
  },
  "language_info": {
   "codemirror_mode": {
    "name": "ipython",
    "version": 3
   },
   "file_extension": ".py",
   "mimetype": "text/x-python",
   "name": "python",
   "nbconvert_exporter": "python",
   "pygments_lexer": "ipython3",
   "version": "3.11.1"
  }
 },
 "nbformat": 4,
 "nbformat_minor": 2
}
